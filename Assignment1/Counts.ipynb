{
 "cells": [
  {
   "cell_type": "markdown",
   "metadata": {},
   "source": [
    "# # Task 1 - Counts\n",
    "\n",
    "# Write a function which takes a list as input and returns a set of key-value pairs.\n"
   ]
  },
  {
   "cell_type": "code",
   "execution_count": null,
   "metadata": {},
   "outputs": [],
   "source": [
    "# https://stackoverflow.com/questions/2161752/how-to-count-the-frequency-of-the-elements-in-an-unordered-list\n",
    "# https://www.tutorialspoint.com/python3/python_functions.htm\n",
    "# https://www.geeksforgeeks.org/python-return-statement/"
   ]
  },
  {
   "cell_type": "code",
   "execution_count": null,
   "metadata": {},
   "outputs": [],
   "source": [
    "# a is list of variables.\n",
    "a = [\"cat\",\"cat\",\"dog\",\"otter\",\"dog\",\"pig\",\"dog\"]\n",
    "\n",
    "# counts is a function which takes the list as input\n",
    "# and outputs the variables and the number of times each variable appears.\n",
    "# x represents every element of a.\n",
    "counts={x:a.count(x)for x in a}\n",
    "\n",
    "# show the results\n",
    "print(counts)"
   ]
  },
  {
   "cell_type": "code",
   "execution_count": null,
   "metadata": {},
   "outputs": [],
   "source": [
    "# a is a list of ints\n",
    "a = [1,3,4,6,3,1,4,4]\n",
    "\n",
    "# counts is a function which takes the list as input\n",
    "# and outputs the variables and the number of times each variable appears.\n",
    "counts={x:a.count(x)for x in a}\n",
    "\n",
    "# show the results\n",
    "print(counts)"
   ]
  },
  {
   "cell_type": "code",
   "execution_count": 1,
   "metadata": {},
   "outputs": [
    {
     "name": "stdout",
     "output_type": "stream",
     "text": [
      "{'cat': 2, 'dog': 3, 'otter': 1, 'pig': 1}\n"
     ]
    }
   ],
   "source": [
    "\n",
    "\n",
    "# counts is a function which takes the list as input\n",
    "# and outputs the variables and the number of times each variable appears.\n",
    "def counts(b):\n",
    "    return {x:b.count(x) for x in b}\n",
    "\n",
    "# a is a list of ints to be iterated through the function counts.\n",
    "#a = [1,3,4,6,3,1,4,4]\n",
    "a = [\"cat\",\"cat\",\"dog\",\"otter\",\"dog\",\"pig\",\"dog\"]    \n",
    "# show the results\n",
    "print(counts(a))"
   ]
  },
  {
   "cell_type": "code",
   "execution_count": null,
   "metadata": {},
   "outputs": [],
   "source": []
  }
 ],
 "metadata": {
  "kernelspec": {
   "display_name": "Python 3",
   "language": "python",
   "name": "python3"
  },
  "language_info": {
   "codemirror_mode": {
    "name": "ipython",
    "version": 3
   },
   "file_extension": ".py",
   "mimetype": "text/x-python",
   "name": "python",
   "nbconvert_exporter": "python",
   "pygments_lexer": "ipython3",
   "version": "3.8.3"
  }
 },
 "nbformat": 4,
 "nbformat_minor": 4
}
