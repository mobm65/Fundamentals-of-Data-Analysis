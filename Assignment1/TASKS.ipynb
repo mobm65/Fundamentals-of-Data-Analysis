{
 "cells": [
  {
   "cell_type": "markdown",
   "metadata": {},
   "source": [
    "# # Task 1 - Counts\n",
    "\n",
    "# Write a function which takes a list as input and returns a set of key-value pairs.\n"
   ]
  },
  {
   "cell_type": "markdown",
   "metadata": {},
   "source": [
    " https:// stackoverflow.com/questions/2161752/how-to-count-the-frequency-of-the-elements-in-an-unordered-list\n",
    "     One of the responses to a question suggested building a dictionary using a.count.  Another contributor said\n",
    "     it was 'hugely inefficient' but I decided to try it anyway.\n",
    "     \n",
    " https://www.tutorialspoint.com/python3/python_functions.htm\n",
    "     I found this very helpful to get the notion of a function clear in my mind.\n",
    "     \n",
    " https://www.geeksforgeeks.org/python-return-statement/\n",
    "    I used this to research the purpose of the return statement which is used to\n",
    "    end the function and return the results.\n",
    "    \n",
    " https://www.w3schools.com/python/python_functions.asp\n",
    "    I found this very helpful to get the notion of a function clear in my mind. I\n",
    "    normally consult w3schools early in my research as if I can master the basics\n",
    "    there I find it easier to face the stackoverflow people.\n",
    "    \n",
    " https://www.python.org/dev/peps/pep-0257/\n",
    "    Research the conventions of using docstrings."
   ]
  },
  {
   "cell_type": "code",
   "execution_count": 1,
   "metadata": {},
   "outputs": [
    {
     "name": "stdout",
     "output_type": "stream",
     "text": [
      "{'cat': 2, 'dog': 3, 'otter': 1, 'pig': 1}\n"
     ]
    }
   ],
   "source": [
    "# a is list of variables in the form of strings. \n",
    "# taking a step toward finding the function.\n",
    "\n",
    "a = [\"cat\",\"cat\",\"dog\",\"otter\",\"dog\",\"pig\",\"dog\"]\n",
    "\n",
    "# counts is the genesis of a function which takes the list as input\n",
    "# and outputs the variables and the number of times each variable appears.\n",
    "# x represents how many times each animal appears.\n",
    "\n",
    "# Counts takes a list and returns a dictionary\n",
    "\n",
    "counts={x:a.count(x)for x in a}\n",
    "\n",
    "# show the results\n",
    "print(counts)"
   ]
  },
  {
   "cell_type": "code",
   "execution_count": 2,
   "metadata": {},
   "outputs": [
    {
     "name": "stdout",
     "output_type": "stream",
     "text": [
      "{1: 2, 3: 2, 4: 3, 6: 1}\n"
     ]
    }
   ],
   "source": [
    "# a is a list of ints\n",
    "# trying a.count out on integers\n",
    "\n",
    "a = [1,3,4,6,3,1,4,4]\n",
    "\n",
    "# counts is the genesis of a function which takes the list as input and \n",
    "# outputs the variables and the number of times each variable appears.\n",
    "\n",
    "# Counts takes a list and returns a dictionary\n",
    "\n",
    "counts={x:a.count(x)for x in a}\n",
    "\n",
    "# show the results\n",
    "print(counts)"
   ]
  },
  {
   "cell_type": "code",
   "execution_count": 3,
   "metadata": {},
   "outputs": [
    {
     "name": "stdout",
     "output_type": "stream",
     "text": [
      "{1: 2, 3: 2, 4: 3, 6: 1}\n"
     ]
    }
   ],
   "source": [
    "# the final result\n",
    "\n",
    "def counts(b):\n",
    "   \n",
    "    \"\"\"\n",
    "    A function which takes the list as input and outputs the variables and \n",
    "    the number of times each variable appears.\n",
    "    \"\"\" \n",
    "    \n",
    "    return {x:b.count(x) for x in b}\n",
    "\n",
    "# a is a list of ints (x)to be iterated through the function counts. The function \n",
    "# will return a dictionary of key-value pairs. (x,f(x)) where f stands for frequency.\n",
    "\n",
    "a = [1,3,4,6,3,1,4,4]\n",
    "  \n",
    "# show the results\n",
    "print(counts(a))"
   ]
  },
  {
   "cell_type": "markdown",
   "metadata": {},
   "source": [
    "# Dicerolls\n",
    "\n",
    "### Task 2"
   ]
  },
  {
   "cell_type": "markdown",
   "metadata": {},
   "source": [
    "## A Function Dicerolls which calculates the likelihood of facevalues being returned when throwing a number of dice a number of times."
   ]
  },
  {
   "cell_type": "markdown",
   "metadata": {},
   "source": [
    "### Sources\n",
    "\n",
    "https://www.w3schools.com/python/ref_func_zip.asp\n",
    "    Help with zipping the two face values, first two, then second two and so on.\n",
    "\n",
    "https://realpython.com/lessons/randomness-modeling-and-simulation/\n",
    "    Revision of creating random integer lists in Python\n",
    "    \n",
    "https://www.w3schools.com/python/python_while_loops.asp\n",
    "    A useful site to help find what loop I need to create to iterate through the number\n",
    "    of dice (k) by the number of times it/they are thrown(n).\n",
    "\n",
    "https://stackoverflow.com/questions/65071627/python-function-that-simulates-rolling-dice-based-on-input-parameters-1-number\n",
    "    Trying to see how others have dealt with this problem and model some of their ideas.\n",
    "    \n",
    "https://realpython.com/lessons/while-loops-conclusion-lessons-learned/\n",
    "    Revision of while loops.\n",
    "    \n",
    "https://stackoverflow.com/questions/8528178/list-of-zeros-in-python\n",
    "    Helped me find a way to start the loop.  I learned it is a common practice to begin with zero values which allowed\n",
    "    me to create a list of tuples I could iterate over.\n",
    "\n",
    "https://www.w3schools.com/python/python_for_loops.asp\n",
    "    Revision of for loops\n",
    "    "
   ]
  },
  {
   "cell_type": "code",
   "execution_count": 4,
   "metadata": {},
   "outputs": [],
   "source": [
    "# k = number of dice\n",
    "# n = number of times dice are thrown\n",
    "# kn = x where x equals face value"
   ]
  },
  {
   "cell_type": "code",
   "execution_count": 5,
   "metadata": {},
   "outputs": [],
   "source": [
    "#import libraries.\n",
    "\n",
    "import numpy as np\n",
    "import matplotlib as plt\n",
    "import seaborn as sns\n",
    "import pandas as pd"
   ]
  },
  {
   "cell_type": "code",
   "execution_count": 6,
   "metadata": {},
   "outputs": [
    {
     "name": "stdout",
     "output_type": "stream",
     "text": [
      "[4, 5, 6, 7, 8, 12, 3, 5, 8, 3, 5, 10, 4, 5, 2, 10, 5, 7, 8, 7, 11, 4, 11, 10, 7, 3, 7, 7, 2, 10, 10, 4, 9, 7, 8, 6, 5, 9, 6, 10, 5, 8, 8, 11, 8, 8, 6, 7, 6, 9]\n"
     ]
    }
   ],
   "source": [
    "import numpy as np\n",
    "# In this cell I am trying to generate the data, zip them and print out the results.\n",
    "\n",
    "# the numpy function random.randint will select each possible integer randomly.\n",
    "# it does not include the last number so I called 7 instead of 6.\n",
    "# k = 2 dice\n",
    "# n = 50\n",
    "\n",
    "# a = the first dice rolled randomly 50 times\n",
    "a = np.random.randint(1,7,50)\n",
    "\n",
    "# b = the second dice rolled randomly 50 times.\n",
    "b = np.random.randint(1,7,50)\n",
    "\n",
    "# the zip function iterates through the list and forms tuples\n",
    "x = zip(a,b)\n",
    "\n",
    "dicerolls = [a+b for a, b in x]\n",
    "\n",
    "print(dicerolls)"
   ]
  },
  {
   "cell_type": "code",
   "execution_count": 7,
   "metadata": {},
   "outputs": [
    {
     "name": "stdout",
     "output_type": "stream",
     "text": [
      "{8: 139, 7: 168, 10: 78, 6: 138, 9: 95, 5: 107, 4: 100, 12: 27, 11: 57, 3: 57, 2: 34}\n"
     ]
    }
   ],
   "source": [
    "\n",
    "# In this cell I am starting the function by incorporating the n parameter.\n",
    "\n",
    "# the numpy function random.randint will select each possible integer randomly.\n",
    "# it does not include the last number so I called 7 instead of 6.\n",
    "\n",
    "# The previous function I created will be useful in creating a dictionary of values\n",
    "# with the number of times they appear.\n",
    "\n",
    "def counts(b):\n",
    "   \n",
    "    \"\"\"\n",
    "    A function which takes the list as input and outputs the variables and \n",
    "    the number of times each variable appears.\n",
    "    \"\"\" \n",
    "    \n",
    "    return {x:b.count(x) for x in b}\n",
    "\n",
    "def dicerolls(n):\n",
    "    \n",
    "\n",
    "    # a = the first dice rolled randomly n times\n",
    "    a = np.random.randint(1,7,n)\n",
    "\n",
    "    # b = the second dice rolled randomly n times.\n",
    "    b = np.random.randint(1,7,n)\n",
    "\n",
    "    # the zip function iterates through the list and forms tuples\n",
    "    x = zip(a,b)\n",
    "\n",
    "\n",
    "    summed_rolls = [a+b for a, b in x]\n",
    "    return counts(summed_rolls)\n",
    "\n",
    "\n",
    "print(dicerolls(1000))"
   ]
  },
  {
   "cell_type": "code",
   "execution_count": 8,
   "metadata": {},
   "outputs": [
    {
     "name": "stdout",
     "output_type": "stream",
     "text": [
      "{10: 16, 11: 14, 13: 14, 9: 8, 14: 6, 17: 1, 7: 9, 12: 11, 6: 3, 15: 3, 5: 3, 8: 7, 4: 2, 16: 2, 18: 1}\n"
     ]
    }
   ],
   "source": [
    "import numpy as np\n",
    "import seaborn as sns\n",
    "# In this cell I am trying to create the full function by incorporating the \n",
    "# parameter k, the number of dice.\n",
    "\n",
    "def counts(b):\n",
    "   \n",
    "    \"\"\"\n",
    "    A function which takes the list as input and outputs the variables and \n",
    "    the number of times each variable appears.\n",
    "    \"\"\" \n",
    "    \n",
    "    return {x:b.count(x) for x in b}\n",
    "\n",
    "def dicerolls(k, n):\n",
    "    \n",
    "    \"\"\" A function which takes the number of dice thrown and the number of times\n",
    "    the dice were thrown, adds the facevalues and shows how often each facevalue\n",
    "    appears\"\"\"\n",
    "    \n",
    "    # totals is my list of dice multiplied by n, the number of times dice are thrown.\n",
    "    totals = [0] * n \n",
    "    \n",
    "    # k is the number of dice you are throwing.\n",
    "    for i in range(k):\n",
    "        \n",
    "        # n_dice_rolls is the random selection chosen by the random.randint function.\n",
    "        n_dice_rolls = np.random.randint(1,7,n)\n",
    "        \n",
    "        # zips the totals of dice thrown by number of times AND the random dice rolls.\n",
    "        x = zip(totals, n_dice_rolls)\n",
    "        totals = [a + b for a, b in zip(totals, n_dice_rolls)]\n",
    "        \n",
    "        # passes totals through the function counts.\n",
    "    return counts(totals)\n",
    "    \n",
    "   \n",
    "# Print the function dicerolls while passing in the parameters k and n.\n",
    "# This returns a dictionary of the total number of dots on three dice and the number of\n",
    "# times that total number appeared, eg. 15 might appear 6 times\n",
    "print(dicerolls(k=3,n=100))\n",
    "\n"
   ]
  },
  {
   "cell_type": "markdown",
   "metadata": {},
   "source": [
    "\n",
    "\n",
    "# TASK 3    NUMPY.RANDOM.BINOMIAL\n",
    "\n"
   ]
  },
  {
   "cell_type": "markdown",
   "metadata": {},
   "source": [
    "Numpy.random is a PRNG, a pseudo random number generator, and it generates pseudo random arrays.  \n",
    "A binomial function can have only two possible outcomes;\n",
    "yes/no, true/false, heads/tails. It is, therefore, a discrete distribution.\n",
    "The function I am using is numpy.random.binomial which takes three parameters: \n",
    "n = the number of trials, \n",
    "p = the probability of the outcome occuring and \n",
    "size = the shape of the returned array."
   ]
  },
  {
   "cell_type": "markdown",
   "metadata": {},
   "source": [
    "#### Sources\n",
    "https://www.journaldev.com/33182/python-add-to-list\n",
    "    How to find a way to add elements unto a list.\n",
    "    \n",
    "https://www.w3schools.com/python/python_while_loops.asp\n",
    "    Keeping correct syntax.\n",
    "    \n",
    "https://numpy.org/doc/stable/reference/random/generated/numpy.random.binomial.html\n",
    "https://www.w3schools.com/python/numpy_random_binomial.asp\n",
    "    Both useful sites to research the function random.binomial and its parameters."
   ]
  },
  {
   "cell_type": "code",
   "execution_count": 9,
   "metadata": {},
   "outputs": [
    {
     "name": "stdout",
     "output_type": "stream",
     "text": [
      "[50 50 51 56 44 54 58 52 46 42 59 51 49 48 53 38 50 55 42 50 49 48 56 52\n",
      " 53 49 49 50 50 56 53 54 48 53 47 49 48 53 62 59 49 49 47 53 55 39 59 46\n",
      " 48 48 56 49 55 42 52 50 56 54 49 48 48 50 48 52 43 51 49 41 49 48 63 58\n",
      " 52 48 47 44 61 57 52 51 49 52 48 58 52 48 44 49 54 48 51 40 53 45 54 51\n",
      " 54 52 58 50]\n"
     ]
    }
   ],
   "source": [
    "# import library\n",
    "from numpy import random\n",
    "\n",
    "# coinflip is the name of a function which simulates 100 coin tosses,\n",
    "# performs 100 trials with a probability of .5 of either result.\n",
    "coinflip = random.binomial(n=100, p=.5,size=100)\n",
    "print(coinflip) \n",
    "\n",
    "# returns one humdred answers "
   ]
  },
  {
   "cell_type": "code",
   "execution_count": 10,
   "metadata": {},
   "outputs": [
    {
     "name": "stdout",
     "output_type": "stream",
     "text": [
      "[50, 55, 52, 41, 45, 53, 52, 53, 49, 50, 50, 43, 54, 56, 55, 56, 38, 54, 44, 46, 47, 47, 46, 57, 52, 49, 48, 49, 52, 44, 45, 45, 51, 48, 54, 54, 49, 52, 53, 48, 39, 50, 56, 50, 45, 49, 48, 56, 48, 55, 55, 44, 57, 44, 48, 48, 46, 48, 51, 55, 51, 54, 54, 57, 54, 56, 43, 56, 49, 56, 55, 50, 53, 54, 45, 51, 48, 59, 49, 40, 51, 61, 44, 60, 41, 53, 56, 51, 46, 44, 56, 52, 55, 46, 40, 47, 46, 48, 56, 50, 49, 50, 46, 52, 52, 50, 53, 47, 48, 53, 47, 44, 55, 48, 52, 55, 56, 45, 51, 53, 44, 51, 50, 47, 54, 54, 52, 47, 53, 43, 50, 47, 43, 56, 54, 52, 53, 45, 52, 45, 46, 52, 56, 56, 53, 55, 51, 52, 48, 52, 57, 52, 53, 54, 52, 57, 51, 53, 42, 47, 48, 48, 43, 45, 54, 46, 53, 52, 42, 39, 49, 56, 48, 49, 49, 43, 45, 41, 52, 52, 52, 48, 56, 54, 51, 46, 46, 57, 50, 47, 46, 50, 43, 52, 48, 64, 45, 46, 48, 50, 45, 51, 44, 43, 52, 48, 47, 55, 56, 51, 55, 52, 43, 54, 48, 54, 44, 43, 45, 48, 49, 49, 47, 49, 49, 47, 54, 51, 41, 59, 47, 40, 49, 50, 51, 52, 54, 51, 37, 52, 50, 43, 55, 54, 47, 46, 44, 45, 54, 47, 50, 49, 44, 49, 62, 44, 41, 54, 56, 46, 51, 50, 50, 47, 40, 67, 40, 42, 38, 54, 53, 52, 48, 50, 57, 53, 48, 49, 46, 50, 41, 58, 57, 51, 49, 53, 51, 58, 53, 48, 47, 47, 55, 49, 43, 53, 58, 60, 51, 53, 52, 47, 46, 57, 55, 50, 48, 52, 47, 44, 43, 51, 44, 60, 48, 48, 53, 46, 53, 50, 52, 45, 45, 59, 45, 49, 56, 58, 48, 48, 50, 49, 55, 42, 55, 53, 51, 50, 51, 58, 48, 59, 49, 56, 48, 49, 47, 50, 45, 49, 57, 50, 53, 47, 53, 52, 43, 47, 52, 46, 45, 51, 54, 51, 50, 50, 46, 49, 49, 52, 43, 49, 51, 49, 56, 51, 43, 52, 55, 42, 53, 48, 44, 44, 50, 56, 57, 49, 50, 42, 49, 53, 48, 43, 54, 48, 56, 41, 55, 45, 53, 48, 45, 51, 49, 48, 50, 47, 56, 52, 49, 50, 59, 40, 47, 48, 45, 45, 44, 62, 56, 51, 52, 57, 50, 51, 53, 55, 56, 45, 52, 52, 48, 46, 44, 49, 44, 52, 54, 57, 51, 43, 43, 52, 50, 54, 52, 49, 44, 53, 47, 51, 52, 53, 52, 45, 54, 53, 47, 40, 53, 51, 52, 50, 47, 58, 57, 59, 55, 60, 44, 46, 48, 49, 42, 60, 46, 46, 58, 51, 56, 59, 57, 41, 49, 47, 47, 45, 48, 52, 49, 47, 54, 44, 50, 53, 49, 44, 50, 52, 53, 43, 48, 57, 52, 47, 44, 57, 40, 49, 48, 57, 55, 47, 48, 44, 53, 56, 46, 47, 47, 51, 55, 44, 55, 51, 50, 44, 53, 50, 47, 51, 45, 48, 53, 53, 48, 46, 51, 48, 50, 48, 50, 39, 48, 50, 48, 48, 53, 48, 50, 50, 44, 49, 49, 50, 47, 42, 59, 50, 48, 55, 59, 50, 51, 54, 60, 57, 44, 44, 50, 52, 50, 42, 55, 48, 55, 45, 59, 59, 56, 46, 52, 47, 50, 54, 49, 41, 45, 51, 56, 50, 61, 53, 46, 44, 46, 45, 53, 47, 46, 58, 47, 47, 44, 48, 56, 52, 44, 46, 54, 46, 43, 39, 57, 44, 54, 57, 54, 56, 46, 48, 52, 45, 47, 58, 52, 45, 41, 56, 52, 55, 49, 58, 58, 46, 51, 42, 44, 44, 53, 50, 49, 52, 51, 54, 49, 46, 47, 53, 63, 54, 46, 41, 49, 50, 49, 56, 55, 51, 45, 47, 41, 46, 50, 50, 57, 62, 51, 50, 49, 42, 49, 40, 40, 52, 50, 47, 49, 54, 45, 61, 53, 45, 54, 45, 46, 50, 42, 41, 54, 53, 59, 46, 45, 39, 51, 57, 46, 50, 43, 51, 55, 56, 44, 51, 44, 49, 53, 49, 46, 42, 55, 54, 45, 54, 43, 48, 58, 46, 48, 50, 49, 54, 48, 50, 46, 43, 33, 50, 45, 47, 48, 51, 52, 53, 48, 47, 49, 44, 42, 53, 46, 45, 59, 58, 50, 48, 56, 56, 49, 48, 57, 41, 51, 59, 49, 51, 54, 44, 40, 54, 47, 53, 53, 47, 47, 45, 52, 46, 46, 45, 46, 44, 38, 45, 45, 48, 48, 55, 54, 50, 49, 52, 55, 50, 48, 45, 46, 54, 55, 55, 50, 47, 48, 43, 47, 51, 48, 49, 49, 53, 41, 48, 55, 46, 42, 54, 54, 47, 54, 41, 45, 48, 57, 58, 56, 48, 53, 48, 43, 43, 54, 43, 49, 47, 53, 56, 45, 55, 47, 45, 48, 51, 48, 61, 50, 62, 44, 50, 54, 54, 48, 53, 55, 52, 58, 52, 49, 52, 48, 56, 61, 55, 46, 54, 57, 45, 50, 48, 44, 47, 42, 61, 49, 47, 49, 56, 49, 51, 52, 45, 45, 48, 39, 54, 45, 46, 48, 54, 50, 47, 43, 53, 54, 55, 46, 45, 51, 62, 50, 55, 52, 47, 54, 55, 51, 49, 58, 56, 42, 59, 47, 58, 60, 49, 52, 53, 55, 45, 51, 49, 39, 54, 46, 52, 47, 53, 56, 50, 45, 53, 51, 50, 43, 55, 44, 53, 48, 49, 48, 45, 43, 46, 50, 55, 52, 51, 55, 51, 55, 53, 47, 37, 40, 47, 59, 50, 51, 47, 56, 45, 50, 46, 44, 51, 50, 46, 47, 52, 56, 52, 46, 56, 56, 54, 48, 47, 44, 50, 46, 50, 46, 51, 54, 55, 45, 55, 46, 51, 52, 44, 53, 51, 49, 52, 49, 49, 45, 54, 49, 42, 52, 53, 43, 57, 49, 48, 63, 47]\n"
     ]
    },
    {
     "data": {
      "text/plain": [
       "<matplotlib.axes._subplots.AxesSubplot at 0x1fb07ddefa0>"
      ]
     },
     "execution_count": 10,
     "metadata": {},
     "output_type": "execute_result"
    },
    {
     "data": {
      "image/png": "[encoded data removed]",
      "text/plain": [
       "<Figure size 432x288 with 1 Axes>"
      ]
     },
     "metadata": {
      "needs_background": "light"
     },
     "output_type": "display_data"
    }
   ],
   "source": [
    "#import libraries.\n",
    "from numpy import random\n",
    "import seaborn as sns\n",
    "import matplotlib.pyplot as plt\n",
    "\n",
    "\"\"\" heads is a function which throws a dice 100 times and records the\n",
    " number of times it faces heads up(1) or tails up (0)\"\"\"\n",
    "\n",
    "def heads():\n",
    "    coinflips = random.binomial(n=1, p=.5, size=100)\n",
    "    return sum(coinflips) \n",
    "\n",
    "# Using a while loop to append instances up to 1000 and sum them.  I start with an empty\n",
    "# list as a base, which I call results.  I start at the element i = 0 and iterate through\n",
    "# all elements up to 1000. I append these results to the return from the function heads.\n",
    "results = []\n",
    "i = 0\n",
    "while i < 1000:\n",
    "    results.append(heads())\n",
    "    i += 1\n",
    "    \n",
    "# Shows the 1000 times 100 throws.\n",
    "print(results)\n",
    "\n",
    "# plots the data as a normal distribution with positive numbers only.\n",
    "sns.distplot(results)\n",
    "\n"
   ]
  },
  {
   "cell_type": "markdown",
   "metadata": {},
   "source": [
    "<br>\n",
    "\n",
    "# Task 4 Simpson's Paradox"
   ]
  },
  {
   "cell_type": "markdown",
   "metadata": {},
   "source": [
    "Simpson's paradox is a trend which is evident in a number of groups but it reverses when the groups are combined.  As Mark Twain said there are \"lies, damned lies and statistics.\"  The impact of all possible variables must be \n",
    "considered before concluding that one variable is linked to another.  Bickel's US Berkley study from 1974 seemed to indicate gender bias in favour of men.  When each department was assessed individually, there was actually a small but statistically relevant bias in favour of women.  Simpson's paradox can arise when there is a confounding variable.  This variable is not taken into account in the causal relationship between two variables, yet it can impact them.  \n",
    "For example it seems that Apple can charge whatever they want and people buy their phones.  This might lead us to believe that high price correlates with high sales.  A confounding variable here might be the social status \n",
    "attached to owning an iphone or customer loyalty to the brand.  \n",
    "In this assignment I am going to show that four datasets can have a similar linear regression when plotted separately, this may change when the datasets are concatenated before plotting."
   ]
  },
  {
   "cell_type": "markdown",
   "metadata": {},
   "source": [
    "<br>\n",
    "#### Sources\n",
    "https://en.wikipedia.org/wiki/Simpson%27s_paradox#:~:text=Simpson%27s%20paradox%2C%20which%20also%20goes\n",
    "https://www.w3schools.com/python/numpy_creating_arrays.asp\n",
    "https://matplotlib.org/2.1.1/api/_as_gen/matplotlib.pyplot.plot.html\n",
    "https://www.datacamp.com/community/tutorials/joining-dataframes-pandas\n",
    "    "
   ]
  },
  {
   "cell_type": "code",
   "execution_count": 11,
   "metadata": {},
   "outputs": [
    {
     "name": "stdout",
     "output_type": "stream",
     "text": [
      "           x          y\n",
      "0   0.000000   2.000000\n",
      "1   1.111111   3.111111\n",
      "2   2.222222   4.222222\n",
      "3   3.333333   5.333333\n",
      "4   4.444444   6.444444\n",
      "5   5.555556   7.555556\n",
      "6   6.666667   8.666667\n",
      "7   7.777778   9.777778\n",
      "8   8.888889  10.888889\n",
      "9  10.000000  12.000000\n"
     ]
    },
    {
     "data": {
      "text/plain": [
       "<matplotlib.axes._subplots.AxesSubplot at 0x1fb08601fa0>"
      ]
     },
     "execution_count": 11,
     "metadata": {},
     "output_type": "execute_result"
    },
    {
     "data": {
      "image/png": "[encoded data removed]",
      "text/plain": [
       "<Figure size 432x288 with 1 Axes>"
      ]
     },
     "metadata": {
      "needs_background": "light"
     },
     "output_type": "display_data"
    }
   ],
   "source": [
    "import numpy as np\n",
    "import pandas as pd\n",
    "import matplotlib.pyplot as plt\n",
    "\n",
    "# Dataset a \n",
    "x = np.linspace(0.0,10.0,10)\n",
    "y = 1 * x + 2\n",
    "a = (x,y)\n",
    "#print(a)\n",
    "\n",
    "a = {\n",
    "    'x': x,\n",
    "    'y': y\n",
    "}\n",
    "\n",
    "dfa = pd.DataFrame(a, columns = ['x', 'y'])\n",
    "print(dfa)\n",
    "\n",
    "dfa.plot(x='x', y='y', color = \"green\")\n",
    "\n"
   ]
  },
  {
   "cell_type": "code",
   "execution_count": 12,
   "metadata": {},
   "outputs": [
    {
     "name": "stdout",
     "output_type": "stream",
     "text": [
      "           x          y\n",
      "0   0.000000   3.000000\n",
      "1   1.111111   5.222222\n",
      "2   2.222222   7.444444\n",
      "3   3.333333   9.666667\n",
      "4   4.444444  11.888889\n",
      "5   5.555556  14.111111\n",
      "6   6.666667  16.333333\n",
      "7   7.777778  18.555556\n",
      "8   8.888889  20.777778\n",
      "9  10.000000  23.000000\n"
     ]
    },
    {
     "data": {
      "text/plain": [
       "<matplotlib.axes._subplots.AxesSubplot at 0x1fb08685e20>"
      ]
     },
     "execution_count": 12,
     "metadata": {},
     "output_type": "execute_result"
    },
    {
     "data": {
      "image/png": "[encoded data removed]",
      "text/plain": [
       "<Figure size 432x288 with 1 Axes>"
      ]
     },
     "metadata": {
      "needs_background": "light"
     },
     "output_type": "display_data"
    }
   ],
   "source": [
    "import numpy as np\n",
    "import matplotlib.pyplot as plt\n",
    "\n",
    "# Dataset b\n",
    "x2 = np.linspace(0.0, 10, 10)\n",
    "y2 = 2 * x2 + 3\n",
    "b = (x2,y2)\n",
    "#print(b)\n",
    "\n",
    "b = {\n",
    "    'x': x2,\n",
    "    'y': y2\n",
    "}\n",
    "\n",
    "dfb = pd.DataFrame(b, columns = ['x', 'y'])\n",
    "print(dfb)\n",
    "\n",
    "dfb.plot(x='x', y='y', color = \"k\")\n",
    "\n",
    "\n",
    "\n"
   ]
  },
  {
   "cell_type": "code",
   "execution_count": 13,
   "metadata": {
    "scrolled": true
   },
   "outputs": [
    {
     "name": "stdout",
     "output_type": "stream",
     "text": [
      "           x          y\n",
      "0   0.000000   4.000000\n",
      "1   1.111111   7.333333\n",
      "2   2.222222  10.666667\n",
      "3   3.333333  14.000000\n",
      "4   4.444444  17.333333\n",
      "5   5.555556  20.666667\n",
      "6   6.666667  24.000000\n",
      "7   7.777778  27.333333\n",
      "8   8.888889  30.666667\n",
      "9  10.000000  34.000000\n"
     ]
    },
    {
     "data": {
      "text/plain": [
       "<matplotlib.axes._subplots.AxesSubplot at 0x1fb086787c0>"
      ]
     },
     "execution_count": 13,
     "metadata": {},
     "output_type": "execute_result"
    },
    {
     "data": {
      "image/png": "[encoded data removed]",
      "text/plain": [
       "<Figure size 432x288 with 1 Axes>"
      ]
     },
     "metadata": {
      "needs_background": "light"
     },
     "output_type": "display_data"
    }
   ],
   "source": [
    "# Dataset c\n",
    "import numpy as np\n",
    "import matplotlib.pyplot as plt\n",
    "\n",
    "x3 = np.linspace(0.0, 10, 10)\n",
    "y3 = 3 * x3 + 4\n",
    "c = (x3,y3)\n",
    "#print(c)\n",
    "\n",
    "\n",
    "c = {\n",
    "    'x': x3,\n",
    "    'y': y3\n",
    "}\n",
    "\n",
    "dfc = pd.DataFrame(c, columns = ['x', 'y'])\n",
    "print(dfc)\n",
    "\n",
    "dfc.plot(x='x', y='y', color = \"y\")\n",
    "\n"
   ]
  },
  {
   "cell_type": "code",
   "execution_count": 14,
   "metadata": {},
   "outputs": [
    {
     "name": "stdout",
     "output_type": "stream",
     "text": [
      "           x          y\n",
      "0   0.000000   5.000000\n",
      "1   1.111111   9.444444\n",
      "2   2.222222  13.888889\n",
      "3   3.333333  18.333333\n",
      "4   4.444444  22.777778\n",
      "5   5.555556  27.222222\n",
      "6   6.666667  31.666667\n",
      "7   7.777778  36.111111\n",
      "8   8.888889  40.555556\n",
      "9  10.000000  45.000000\n"
     ]
    },
    {
     "data": {
      "text/plain": [
       "<matplotlib.axes._subplots.AxesSubplot at 0x1fb0874e280>"
      ]
     },
     "execution_count": 14,
     "metadata": {},
     "output_type": "execute_result"
    },
    {
     "data": {
      "image/png": "[encoded data removed]",
      "text/plain": [
       "<Figure size 432x288 with 1 Axes>"
      ]
     },
     "metadata": {
      "needs_background": "light"
     },
     "output_type": "display_data"
    }
   ],
   "source": [
    "# Dataset d\n",
    "import numpy as np\n",
    "x4 = np.linspace(0.0, 10, 10)\n",
    "y4 = 4 * x4 + 5\n",
    "d = {\n",
    "    'x': x4,\n",
    "    'y': y4\n",
    "}\n",
    "\n",
    "dfd = pd.DataFrame(d, columns = ['x', 'y'])\n",
    "print(dfd)\n",
    "\n",
    "dfd.plot(x='x', y='y', color = \"m\")\n",
    "\n"
   ]
  },
  {
   "cell_type": "code",
   "execution_count": 15,
   "metadata": {},
   "outputs": [
    {
     "data": {
      "text/plain": [
       "<matplotlib.legend.Legend at 0x1fb087dc7c0>"
      ]
     },
     "execution_count": 15,
     "metadata": {},
     "output_type": "execute_result"
    },
    {
     "data": {
      "image/png": "[encoded data removed]",
      "text/plain": [
       "<Figure size 432x288 with 1 Axes>"
      ]
     },
     "metadata": {
      "needs_background": "light"
     },
     "output_type": "display_data"
    }
   ],
   "source": [
    "# plot datasets together\n",
    "import matplotlib.pyplot as plt\n",
    "\n",
    "plt.plot(x,y)\n",
    "plt.plot(x2,y2)\n",
    "plt.plot(x3,y3)\n",
    "plt.plot(x4,y4)\n",
    "\n",
    "plt.legend([\"dfa\", \"dfb\", \"df3\", \"df4\"])\n"
   ]
  },
  {
   "cell_type": "code",
   "execution_count": 16,
   "metadata": {},
   "outputs": [
    {
     "name": "stdout",
     "output_type": "stream",
     "text": [
      "           x          y\n",
      "0   0.000000   2.000000\n",
      "1   1.111111   3.111111\n",
      "2   2.222222   4.222222\n",
      "3   3.333333   5.333333\n",
      "4   4.444444   6.444444\n",
      "5   5.555556   7.555556\n",
      "6   6.666667   8.666667\n",
      "7   7.777778   9.777778\n",
      "8   8.888889  10.888889\n",
      "9  10.000000  12.000000\n",
      "0   0.000000   3.000000\n",
      "1   1.111111   5.222222\n",
      "2   2.222222   7.444444\n",
      "3   3.333333   9.666667\n",
      "4   4.444444  11.888889\n",
      "5   5.555556  14.111111\n",
      "6   6.666667  16.333333\n",
      "7   7.777778  18.555556\n",
      "8   8.888889  20.777778\n",
      "9  10.000000  23.000000\n",
      "0   0.000000   4.000000\n",
      "1   1.111111   7.333333\n",
      "2   2.222222  10.666667\n",
      "3   3.333333  14.000000\n",
      "4   4.444444  17.333333\n",
      "5   5.555556  20.666667\n",
      "6   6.666667  24.000000\n",
      "7   7.777778  27.333333\n",
      "8   8.888889  30.666667\n",
      "9  10.000000  34.000000\n",
      "0   0.000000   5.000000\n",
      "1   1.111111   9.444444\n",
      "2   2.222222  13.888889\n",
      "3   3.333333  18.333333\n",
      "4   4.444444  22.777778\n",
      "5   5.555556  27.222222\n",
      "6   6.666667  31.666667\n",
      "7   7.777778  36.111111\n",
      "8   8.888889  40.555556\n",
      "9  10.000000  45.000000\n"
     ]
    },
    {
     "data": {
      "text/plain": [
       "<matplotlib.axes._subplots.AxesSubplot at 0x1fb088151f0>"
      ]
     },
     "execution_count": 16,
     "metadata": {},
     "output_type": "execute_result"
    },
    {
     "data": {
      "image/png": "[encoded data removed]",
      "text/plain": [
       "<Figure size 432x288 with 1 Axes>"
      ]
     },
     "metadata": {
      "needs_background": "light"
     },
     "output_type": "display_data"
    }
   ],
   "source": [
    "# combine the datasets using concatenate\n",
    "import numpy as np\n",
    "import pandas as pd\n",
    "import matplotlib.pyplot as plt\n",
    "\n",
    "df_row = pd.concat([dfa, dfb, dfc, dfd])\n",
    "\n",
    "print(df_row)\n",
    "\n",
    "df_row.plot(x='x', y='y')\n",
    "\n",
    "#plt.style.use(\"ggplot\")\n",
    "#plt.rcParams[\"figure.figsize\"] = 18,20\n",
    "#plt.plot(df_row)\n",
    "\n"
   ]
  },
  {
   "cell_type": "code",
   "execution_count": null,
   "metadata": {},
   "outputs": [],
   "source": []
  }
 ],
 "metadata": {
  "kernelspec": {
   "display_name": "Python 3",
   "language": "python",
   "name": "python3"
  },
  "language_info": {
   "codemirror_mode": {
    "name": "ipython",
    "version": 3
   },
   "file_extension": ".py",
   "mimetype": "text/x-python",
   "name": "python",
   "nbconvert_exporter": "python",
   "pygments_lexer": "ipython3",
   "version": "3.8.3"
  }
 },
 "nbformat": 4,
 "nbformat_minor": 4
}
