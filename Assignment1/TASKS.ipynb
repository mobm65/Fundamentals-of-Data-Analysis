{
 "cells": [
  {
   "cell_type": "markdown",
   "metadata": {},
   "source": [
    "# # Task 1 - Counts\n",
    "\n",
    "# Write a function which takes a list as input and returns a set of key-value pairs.\n"
   ]
  },
  {
   "cell_type": "markdown",
   "metadata": {},
   "source": [
    " https:// stackoverflow.com/questions/2161752/how-to-count-the-frequency-of-the-elements-in-an-unordered-list\n",
    "     One of the responses to a question suggested building a dictionary using a.count.  Another contributor said\n",
    "     it was 'hugely inefficient' but I decided to try it anyway.\n",
    "     \n",
    " https://www.tutorialspoint.com/python3/python_functions.htm\n",
    "     I found this very helpful to get the notion of a function clear in my mind.\n",
    "     \n",
    " https://www.geeksforgeeks.org/python-return-statement/\n",
    "    I used this to research the purpose of the return statement which is used to\n",
    "    end the function and return the results.\n",
    "    \n",
    " https://www.w3schools.com/python/python_functions.asp\n",
    "    I found this very helpful to get the notion of a function clear in my mind. I\n",
    "    normally consult w3schools early in my research as if I can master the basics\n",
    "    there I find it easier to face the stackoverflow people.\n",
    "    \n",
    " https://www.python.org/dev/peps/pep-0257/\n",
    "    Research the conventions of using docstrings."
   ]
  },
  {
   "cell_type": "code",
   "execution_count": null,
   "metadata": {},
   "outputs": [],
   "source": [
    "# a is list of variables in the form of strings. \n",
    "# taking a step toward finding the function.\n",
    "\n",
    "a = [\"cat\",\"cat\",\"dog\",\"otter\",\"dog\",\"pig\",\"dog\"]\n",
    "\n",
    "# counts is the genesis of a function which takes the list as input\n",
    "# and outputs the variables and the number of times each variable appears.\n",
    "# x represents how many times each animal appears.\n",
    "\n",
    "# Counts takes a list and returns a dictionary\n",
    "\n",
    "counts={x:a.count(x)for x in a}\n",
    "\n",
    "# show the results\n",
    "print(counts)"
   ]
  },
  {
   "cell_type": "code",
   "execution_count": null,
   "metadata": {},
   "outputs": [],
   "source": [
    "# a is a list of ints\n",
    "# trying a.count out on integers\n",
    "\n",
    "a = [1,3,4,6,3,1,4,4]\n",
    "\n",
    "# counts is the genesis of a function which takes the list as input and \n",
    "# outputs the variables and the number of times each variable appears.\n",
    "\n",
    "# Counts takes a list and returns a dictionary\n",
    "\n",
    "counts={x:a.count(x)for x in a}\n",
    "\n",
    "# show the results\n",
    "print(counts)"
   ]
  },
  {
   "cell_type": "code",
   "execution_count": null,
   "metadata": {},
   "outputs": [],
   "source": [
    "# the final result\n",
    "\n",
    "def counts(b):\n",
    "   \n",
    "    \"\"\"\n",
    "    A function which takes the list as input and outputs the variables and \n",
    "    the number of times each variable appears.\n",
    "    \"\"\" \n",
    "    \n",
    "    return {x:b.count(x) for x in b}\n",
    "\n",
    "# a is a list of ints (x)to be iterated through the function counts. The function \n",
    "# will return a dictionary of key-value pairs. (x,f(x)) where f stands for frequency.\n",
    "\n",
    "a = [1,3,4,6,3,1,4,4]\n",
    "  \n",
    "# show the results\n",
    "print(counts(a))"
   ]
  },
  {
   "cell_type": "markdown",
   "metadata": {},
   "source": [
    "# Dicerolls\n",
    "\n",
    "### Task 2"
   ]
  },
  {
   "cell_type": "markdown",
   "metadata": {},
   "source": [
    "## A Function Dicerolls which calculates the likelihood of facevalues being returned when throwing a number of dice a number of times."
   ]
  },
  {
   "cell_type": "markdown",
   "metadata": {},
   "source": [
    "### Sources\n",
    "\n",
    "https://www.w3schools.com/python/ref_func_zip.asp\n",
    "    Help with zipping the two face values, first two, then second two and so on.\n",
    "\n",
    "https://realpython.com/lessons/randomness-modeling-and-simulation/\n",
    "    Revision of creating random integer lists in Python\n",
    "    \n",
    "https://www.w3schools.com/python/python_while_loops.asp\n",
    "    A useful site to help find what loop I need to create to iterate through the number\n",
    "    of dice (k) by the number of times it/they are thrown(n).\n",
    "\n",
    "https://stackoverflow.com/questions/65071627/python-function-that-simulates-rolling-dice-based-on-input-parameters-1-number\n",
    "    Trying to see how others have dealt with this problem and model some of their ideas.\n",
    "    \n",
    "https://realpython.com/lessons/while-loops-conclusion-lessons-learned/\n",
    "    Revision of while loops.\n",
    "    \n",
    "https://stackoverflow.com/questions/8528178/list-of-zeros-in-python\n",
    "    Helped me find a way to start the loop.  I learned it is a common practice to begin with zero values which allowed\n",
    "    me to create a list of tuples I could iterate over.\n",
    "\n",
    "https://www.w3schools.com/python/python_for_loops.asp\n",
    "    Revision of for loops\n",
    "    "
   ]
  },
  {
   "cell_type": "code",
   "execution_count": null,
   "metadata": {},
   "outputs": [],
   "source": [
    "# k = number of dice\n",
    "# n = number of times dice are thrown\n",
    "# kn = x where x equals face value"
   ]
  },
  {
   "cell_type": "code",
   "execution_count": null,
   "metadata": {},
   "outputs": [],
   "source": [
    "#import libraries.\n",
    "\n",
    "import numpy as np\n",
    "import matplotlib as plt\n",
    "import seaborn as sns\n",
    "import pandas as pd"
   ]
  },
  {
   "cell_type": "code",
   "execution_count": null,
   "metadata": {},
   "outputs": [],
   "source": [
    "import numpy as np\n",
    "# In this cell I am trying to generate the data, zip them and print out the results.\n",
    "\n",
    "# the numpy function random.randint will select each possible integer randomly.\n",
    "# it does not include the last number so I called 7 instead of 6.\n",
    "# k = 2 dice\n",
    "# n = 50\n",
    "\n",
    "# a = the first dice rolled randomly 50 times\n",
    "a = np.random.randint(1,7,50)\n",
    "\n",
    "# b = the second dice rolled randomly 50 times.\n",
    "b = np.random.randint(1,7,50)\n",
    "\n",
    "# the zip function iterates through the list and forms tuples\n",
    "x = zip(a,b)\n",
    "\n",
    "dicerolls = [a+b for a, b in x]\n",
    "\n",
    "print(dicerolls)"
   ]
  },
  {
   "cell_type": "code",
   "execution_count": null,
   "metadata": {},
   "outputs": [],
   "source": [
    "\n",
    "# In this cell I am starting the function by incorporating the n parameter.\n",
    "\n",
    "# the numpy function random.randint will select each possible integer randomly.\n",
    "# it does not include the last number so I called 7 instead of 6.\n",
    "\n",
    "# The previous function I created will be useful in creating a dictionary of values\n",
    "# with the number of times they appear.\n",
    "\n",
    "def counts(b):\n",
    "   \n",
    "    \"\"\"\n",
    "    A function which takes the list as input and outputs the variables and \n",
    "    the number of times each variable appears.\n",
    "    \"\"\" \n",
    "    \n",
    "    return {x:b.count(x) for x in b}\n",
    "\n",
    "def dicerolls(n):\n",
    "    \n",
    "\n",
    "    # a = the first dice rolled randomly n times\n",
    "    a = np.random.randint(1,7,n)\n",
    "\n",
    "    # b = the second dice rolled randomly n times.\n",
    "    b = np.random.randint(1,7,n)\n",
    "\n",
    "    # the zip function iterates through the list and forms tuples\n",
    "    x = zip(a,b)\n",
    "\n",
    "\n",
    "    summed_rolls = [a+b for a, b in x]\n",
    "    return counts(summed_rolls)\n",
    "\n",
    "\n",
    "print(dicerolls(1000))"
   ]
  },
  {
   "cell_type": "code",
   "execution_count": 6,
   "metadata": {},
   "outputs": [
    {
     "name": "stdout",
     "output_type": "stream",
     "text": [
      "{7: 10, 11: 10, 12: 14, 10: 19, 9: 11, 13: 4, 8: 5, 14: 5, 6: 6, 15: 9, 5: 3, 17: 3, 4: 1}\n"
     ]
    }
   ],
   "source": [
    "import numpy as np\n",
    "import seaborn as sns\n",
    "# In this cell I am trying to create the full function by incorporating the \n",
    "# parameter k, the number of dice.\n",
    "\n",
    "def counts(b):\n",
    "   \n",
    "    \"\"\"\n",
    "    A function which takes the list as input and outputs the variables and \n",
    "    the number of times each variable appears.\n",
    "    \"\"\" \n",
    "    \n",
    "    return {x:b.count(x) for x in b}\n",
    "\n",
    "def dicerolls(k, n):\n",
    "    \n",
    "    \"\"\" A function which takes the number of dice thrown and the number of times\n",
    "    the dice were thrown, adds the facevalues and shows how often each facevalue\n",
    "    appears\"\"\"\n",
    "    \n",
    "    # totals is my list of dice multiplied by n, the number of times dice are thrown.\n",
    "    totals = [0] * n \n",
    "    \n",
    "    # k is the number of dice you are throwing.\n",
    "    for i in range(k):\n",
    "        \n",
    "        # n_dice_rolls is the random selection chosen by the random.randint function.\n",
    "        n_dice_rolls = np.random.randint(1,7,n)\n",
    "        \n",
    "        # zips the totals of dice thrown by number of times AND the random dice rolls.\n",
    "        x = zip(totals, n_dice_rolls)\n",
    "        totals = [a + b for a, b in zip(totals, n_dice_rolls)]\n",
    "        \n",
    "        # passes totals through the function counts.\n",
    "    return counts(totals)\n",
    "    \n",
    "   \n",
    "# Print the function dicerolls while passing in the parameters k and n.\n",
    "# This returns a dictionary of the total number of dots on three dice and the number of\n",
    "# times that total number appeared, eg. 15 might appear 6 times\n",
    "print(dicerolls(k=3,n=100))\n",
    "\n"
   ]
  },
  {
   "cell_type": "markdown",
   "metadata": {},
   "source": [
    "\n",
    "\n",
    "# TASK 3    NUMPY.RANDOM.BINOMIAL\n",
    "\n"
   ]
  },
  {
   "cell_type": "markdown",
   "metadata": {},
   "source": [
    "Numpy.random is a PRNG, a pseudo random number generator, and it generates pseudo random arrays.  \n",
    "A binomial function can have only two possible outcomes;\n",
    "yes/no, true/false, heads/tails. It is, therefore, a discrete distribution.\n",
    "The function I am using is numpy.random.binomial which takes three parameters: \n",
    "n = the number of trials, \n",
    "p = the probability of the outcome occuring and \n",
    "size = the shape of the returned array."
   ]
  },
  {
   "cell_type": "code",
   "execution_count": null,
   "metadata": {},
   "outputs": [],
   "source": [
    "#### Sources\n",
    "https://www.journaldev.com/33182/python-add-to-list\n",
    "    How to find a way to add elements unto a list.\n",
    "    \n",
    "https://www.w3schools.com/python/python_while_loops.asp\n",
    "    Keeping correct syntax.\n",
    "    \n",
    "https://numpy.org/doc/stable/reference/random/generated/numpy.random.binomial.html\n",
    "https://www.w3schools.com/python/numpy_random_binomial.asp\n",
    "    Both useful sites to research the function random.binomial and its parameters."
   ]
  },
  {
   "cell_type": "code",
   "execution_count": null,
   "metadata": {},
   "outputs": [],
   "source": [
    "# import library\n",
    "from numpy import random\n",
    "\n",
    "# coinflip is the name of a function which simulates 100 coin tosses,\n",
    "# performs 100 trials with a probability of .5 of either result.\n",
    "coinflip = random.binomial(n=100, p=.5,size=100)\n",
    "print(coinflip) \n",
    "\n",
    "# returns one humdred answers "
   ]
  },
  {
   "cell_type": "code",
   "execution_count": null,
   "metadata": {},
   "outputs": [],
   "source": [
    "#import libraries.\n",
    "from numpy import random\n",
    "import seaborn as sns\n",
    "import matplotlib.pyplot as plt\n",
    "\n",
    "\"\"\" heads is a function which throws a dice 100 times and records the\n",
    " number of times it faces heads up(1) or tails up (0)\"\"\"\n",
    "\n",
    "def heads():\n",
    "    coinflips = random.binomial(n=1, p=.5, size=100)\n",
    "    return sum(coinflips) \n",
    "\n",
    "# Using a while loop to append instances up to 1000 and sum them.  I start with an empty\n",
    "# list as a base, which I call results.  I start at the element i = 0 and iterate through\n",
    "# all elements up to 1000. I append these results to the return from the function heads.\n",
    "results = []\n",
    "i = 0\n",
    "while i < 1000:\n",
    "    results.append(heads())\n",
    "    i += 1\n",
    "    \n",
    "# Shows the 1000 times 100 throws.\n",
    "print(results)\n",
    "\n",
    "# plots the data as a normal distribution with positive numbers only.\n",
    "sns.distplot(results)\n",
    "\n"
   ]
  },
  {
   "cell_type": "markdown",
   "metadata": {},
   "source": [
    "<br>\n",
    "# Task 4 Simpson's Paradox"
   ]
  },
  {
   "cell_type": "code",
   "execution_count": null,
   "metadata": {},
   "outputs": [],
   "source": [
    "Simpson's paradox is a trend which is evident in a number of groups but it reverses when the groups are combined.  As Mark Twain said there are \"lies, damned lies and statistics.\"  The impact of all possible variables must be \n",
    "considered before concluding that one variable is linked to another.  Bickel's US Berkley study from 1974 seemed to indicate gender bias in favour of men.  When each department was assessed individually, there was actually a small but statistically relevant bias in favour of women.  Simpson's paradox can arise when there is a confounding variable.  This variable is not taken into account in the causal relationship between two variables, yet it can impact them.  \n",
    "For example it seems that Apple can charge whatever they want and people buy their phones.  This might lead us to believe that high price correlates with high sales.  A confounding variable here might be the social status \n",
    "attached to owning an iphone or customer loyalty to the brand.  \n",
    "In this assignment I am going to show that four datasets can have a similar linear regression when plotted separately, this may change when the datasets are concatenated before plotting."
   ]
  },
  {
   "cell_type": "code",
   "execution_count": null,
   "metadata": {},
   "outputs": [],
   "source": [
    "<br>\n",
    "#### Sources\n",
    "https://www.w3schools.com/python/numpy_creating_arrays.asp\n",
    "https://matplotlib.org/2.1.1/api/_as_gen/matplotlib.pyplot.plot.html\n",
    "    "
   ]
  },
  {
   "cell_type": "code",
   "execution_count": 1,
   "metadata": {},
   "outputs": [
    {
     "name": "stdout",
     "output_type": "stream",
     "text": [
      "(array([ 0.        ,  0.20408163,  0.40816327,  0.6122449 ,  0.81632653,\n",
      "        1.02040816,  1.2244898 ,  1.42857143,  1.63265306,  1.83673469,\n",
      "        2.04081633,  2.24489796,  2.44897959,  2.65306122,  2.85714286,\n",
      "        3.06122449,  3.26530612,  3.46938776,  3.67346939,  3.87755102,\n",
      "        4.08163265,  4.28571429,  4.48979592,  4.69387755,  4.89795918,\n",
      "        5.10204082,  5.30612245,  5.51020408,  5.71428571,  5.91836735,\n",
      "        6.12244898,  6.32653061,  6.53061224,  6.73469388,  6.93877551,\n",
      "        7.14285714,  7.34693878,  7.55102041,  7.75510204,  7.95918367,\n",
      "        8.16326531,  8.36734694,  8.57142857,  8.7755102 ,  8.97959184,\n",
      "        9.18367347,  9.3877551 ,  9.59183673,  9.79591837, 10.        ]), array([ 2.        ,  2.20408163,  2.40816327,  2.6122449 ,  2.81632653,\n",
      "        3.02040816,  3.2244898 ,  3.42857143,  3.63265306,  3.83673469,\n",
      "        4.04081633,  4.24489796,  4.44897959,  4.65306122,  4.85714286,\n",
      "        5.06122449,  5.26530612,  5.46938776,  5.67346939,  5.87755102,\n",
      "        6.08163265,  6.28571429,  6.48979592,  6.69387755,  6.89795918,\n",
      "        7.10204082,  7.30612245,  7.51020408,  7.71428571,  7.91836735,\n",
      "        8.12244898,  8.32653061,  8.53061224,  8.73469388,  8.93877551,\n",
      "        9.14285714,  9.34693878,  9.55102041,  9.75510204,  9.95918367,\n",
      "       10.16326531, 10.36734694, 10.57142857, 10.7755102 , 10.97959184,\n",
      "       11.18367347, 11.3877551 , 11.59183673, 11.79591837, 12.        ]))\n"
     ]
    },
    {
     "data": {
      "text/plain": [
       "[<matplotlib.lines.Line2D at 0x1399b0afa90>]"
      ]
     },
     "execution_count": 1,
     "metadata": {},
     "output_type": "execute_result"
    },
    {
     "data": {
      "image/png": "[encoded data removed]",
      "text/plain": [
       "<Figure size 1296x720 with 1 Axes>"
      ]
     },
     "metadata": {},
     "output_type": "display_data"
    }
   ],
   "source": [
    "import numpy as np\n",
    "# Dataset a \n",
    "x = np.linspace(0.0,10.0, 50)\n",
    "y = 1 * x + 2\n",
    "a = (x,y)\n",
    "print(a)\n",
    "\n",
    "#import seaborn as sns\n",
    "#sns.scatterplot(x, y)\n",
    "\n",
    "import matplotlib.pyplot as plt\n",
    "plt.style.use(\"ggplot\")\n",
    "plt.rcParams[\"figure.figsize\"] = 18,10\n",
    "plt.plot(x,y, \".\",color = \"green\")"
   ]
  },
  {
   "cell_type": "code",
   "execution_count": 2,
   "metadata": {},
   "outputs": [
    {
     "name": "stdout",
     "output_type": "stream",
     "text": [
      "(array([ 0.        ,  0.20408163,  0.40816327,  0.6122449 ,  0.81632653,\n",
      "        1.02040816,  1.2244898 ,  1.42857143,  1.63265306,  1.83673469,\n",
      "        2.04081633,  2.24489796,  2.44897959,  2.65306122,  2.85714286,\n",
      "        3.06122449,  3.26530612,  3.46938776,  3.67346939,  3.87755102,\n",
      "        4.08163265,  4.28571429,  4.48979592,  4.69387755,  4.89795918,\n",
      "        5.10204082,  5.30612245,  5.51020408,  5.71428571,  5.91836735,\n",
      "        6.12244898,  6.32653061,  6.53061224,  6.73469388,  6.93877551,\n",
      "        7.14285714,  7.34693878,  7.55102041,  7.75510204,  7.95918367,\n",
      "        8.16326531,  8.36734694,  8.57142857,  8.7755102 ,  8.97959184,\n",
      "        9.18367347,  9.3877551 ,  9.59183673,  9.79591837, 10.        ]), array([ 3.        ,  3.40816327,  3.81632653,  4.2244898 ,  4.63265306,\n",
      "        5.04081633,  5.44897959,  5.85714286,  6.26530612,  6.67346939,\n",
      "        7.08163265,  7.48979592,  7.89795918,  8.30612245,  8.71428571,\n",
      "        9.12244898,  9.53061224,  9.93877551, 10.34693878, 10.75510204,\n",
      "       11.16326531, 11.57142857, 11.97959184, 12.3877551 , 12.79591837,\n",
      "       13.20408163, 13.6122449 , 14.02040816, 14.42857143, 14.83673469,\n",
      "       15.24489796, 15.65306122, 16.06122449, 16.46938776, 16.87755102,\n",
      "       17.28571429, 17.69387755, 18.10204082, 18.51020408, 18.91836735,\n",
      "       19.32653061, 19.73469388, 20.14285714, 20.55102041, 20.95918367,\n",
      "       21.36734694, 21.7755102 , 22.18367347, 22.59183673, 23.        ]))\n"
     ]
    },
    {
     "data": {
      "text/plain": [
       "[<matplotlib.lines.Line2D at 0x1399b4ca880>]"
      ]
     },
     "execution_count": 2,
     "metadata": {},
     "output_type": "execute_result"
    },
    {
     "data": {
      "image/png": "[encoded data removed]",
      "text/plain": [
       "<Figure size 1296x720 with 1 Axes>"
      ]
     },
     "metadata": {},
     "output_type": "display_data"
    }
   ],
   "source": [
    "import numpy as np\n",
    "# Dataset b\n",
    "x2 = np.linspace(0.0, 10, 50)\n",
    "y2 = 2 * x2 + 3\n",
    "b = (x2,y2)\n",
    "print(b)\n",
    "\n",
    "#import seaborn as sns\n",
    "#sns.scatterplot(x2,y2)\n",
    "\n",
    "import matplotlib.pyplot as plt\n",
    "plt.style.use(\"ggplot\")\n",
    "plt.rcParams[\"figure.figsize\"] = 18,10\n",
    "plt.plot(x2,y2, \".\",color = \"k\")"
   ]
  },
  {
   "cell_type": "code",
   "execution_count": 3,
   "metadata": {},
   "outputs": [
    {
     "name": "stdout",
     "output_type": "stream",
     "text": [
      "(array([ 0.        ,  0.20408163,  0.40816327,  0.6122449 ,  0.81632653,\n",
      "        1.02040816,  1.2244898 ,  1.42857143,  1.63265306,  1.83673469,\n",
      "        2.04081633,  2.24489796,  2.44897959,  2.65306122,  2.85714286,\n",
      "        3.06122449,  3.26530612,  3.46938776,  3.67346939,  3.87755102,\n",
      "        4.08163265,  4.28571429,  4.48979592,  4.69387755,  4.89795918,\n",
      "        5.10204082,  5.30612245,  5.51020408,  5.71428571,  5.91836735,\n",
      "        6.12244898,  6.32653061,  6.53061224,  6.73469388,  6.93877551,\n",
      "        7.14285714,  7.34693878,  7.55102041,  7.75510204,  7.95918367,\n",
      "        8.16326531,  8.36734694,  8.57142857,  8.7755102 ,  8.97959184,\n",
      "        9.18367347,  9.3877551 ,  9.59183673,  9.79591837, 10.        ]), array([ 4.        ,  4.6122449 ,  5.2244898 ,  5.83673469,  6.44897959,\n",
      "        7.06122449,  7.67346939,  8.28571429,  8.89795918,  9.51020408,\n",
      "       10.12244898, 10.73469388, 11.34693878, 11.95918367, 12.57142857,\n",
      "       13.18367347, 13.79591837, 14.40816327, 15.02040816, 15.63265306,\n",
      "       16.24489796, 16.85714286, 17.46938776, 18.08163265, 18.69387755,\n",
      "       19.30612245, 19.91836735, 20.53061224, 21.14285714, 21.75510204,\n",
      "       22.36734694, 22.97959184, 23.59183673, 24.20408163, 24.81632653,\n",
      "       25.42857143, 26.04081633, 26.65306122, 27.26530612, 27.87755102,\n",
      "       28.48979592, 29.10204082, 29.71428571, 30.32653061, 30.93877551,\n",
      "       31.55102041, 32.16326531, 32.7755102 , 33.3877551 , 34.        ]))\n"
     ]
    },
    {
     "data": {
      "text/plain": [
       "[<matplotlib.lines.Line2D at 0x1399b174970>]"
      ]
     },
     "execution_count": 3,
     "metadata": {},
     "output_type": "execute_result"
    },
    {
     "data": {
      "image/png": "[encoded data removed]",
      "text/plain": [
       "<Figure size 1296x720 with 1 Axes>"
      ]
     },
     "metadata": {},
     "output_type": "display_data"
    }
   ],
   "source": [
    "# Dataset c\n",
    "import numpy as np\n",
    "x3 = np.linspace(0.0, 10, 50)\n",
    "y3 = 3 * x3 + 4\n",
    "c = (x3,y3)\n",
    "print(c)\n",
    "\n",
    "#import seaborn as sns\n",
    "#sns.scatterplot(x3,y3)\n",
    "\n",
    "import matplotlib.pyplot as plt\n",
    "plt.style.use(\"ggplot\")\n",
    "plt.rcParams[\"figure.figsize\"] = 18,10\n",
    "plt.plot(x3,y3, \".\",color = \"y\")"
   ]
  },
  {
   "cell_type": "code",
   "execution_count": 4,
   "metadata": {},
   "outputs": [
    {
     "name": "stdout",
     "output_type": "stream",
     "text": [
      "(array([ 0.        ,  0.20408163,  0.40816327,  0.6122449 ,  0.81632653,\n",
      "        1.02040816,  1.2244898 ,  1.42857143,  1.63265306,  1.83673469,\n",
      "        2.04081633,  2.24489796,  2.44897959,  2.65306122,  2.85714286,\n",
      "        3.06122449,  3.26530612,  3.46938776,  3.67346939,  3.87755102,\n",
      "        4.08163265,  4.28571429,  4.48979592,  4.69387755,  4.89795918,\n",
      "        5.10204082,  5.30612245,  5.51020408,  5.71428571,  5.91836735,\n",
      "        6.12244898,  6.32653061,  6.53061224,  6.73469388,  6.93877551,\n",
      "        7.14285714,  7.34693878,  7.55102041,  7.75510204,  7.95918367,\n",
      "        8.16326531,  8.36734694,  8.57142857,  8.7755102 ,  8.97959184,\n",
      "        9.18367347,  9.3877551 ,  9.59183673,  9.79591837, 10.        ]), array([ 5.        ,  5.81632653,  6.63265306,  7.44897959,  8.26530612,\n",
      "        9.08163265,  9.89795918, 10.71428571, 11.53061224, 12.34693878,\n",
      "       13.16326531, 13.97959184, 14.79591837, 15.6122449 , 16.42857143,\n",
      "       17.24489796, 18.06122449, 18.87755102, 19.69387755, 20.51020408,\n",
      "       21.32653061, 22.14285714, 22.95918367, 23.7755102 , 24.59183673,\n",
      "       25.40816327, 26.2244898 , 27.04081633, 27.85714286, 28.67346939,\n",
      "       29.48979592, 30.30612245, 31.12244898, 31.93877551, 32.75510204,\n",
      "       33.57142857, 34.3877551 , 35.20408163, 36.02040816, 36.83673469,\n",
      "       37.65306122, 38.46938776, 39.28571429, 40.10204082, 40.91836735,\n",
      "       41.73469388, 42.55102041, 43.36734694, 44.18367347, 45.        ]))\n"
     ]
    },
    {
     "data": {
      "text/plain": [
       "[<matplotlib.lines.Line2D at 0x1399b430700>]"
      ]
     },
     "execution_count": 4,
     "metadata": {},
     "output_type": "execute_result"
    },
    {
     "data": {
      "image/png": "[encoded data removed]",
      "text/plain": [
       "<Figure size 1296x720 with 1 Axes>"
      ]
     },
     "metadata": {},
     "output_type": "display_data"
    }
   ],
   "source": [
    "# Dataset d\n",
    "import numpy as np\n",
    "x4 = np.linspace(0.0, 10, 50)\n",
    "y4 = 4 * x4 + 5\n",
    "d = (x4,y4)\n",
    "print(d)\n",
    "\n",
    "#import seaborn as sns\n",
    "#sns.scatterplot (x4,y4)\n",
    "\n",
    "import matplotlib.pyplot as plt\n",
    "plt.style.use(\"ggplot\")\n",
    "plt.rcParams[\"figure.figsize\"] = 18,10\n",
    "plt.plot(x4,y4, \".\",color = \"m\")"
   ]
  },
  {
   "cell_type": "code",
   "execution_count": 5,
   "metadata": {},
   "outputs": [
    {
     "ename": "TypeError",
     "evalue": "'tuple' object cannot be interpreted as an integer",
     "output_type": "error",
     "traceback": [
      "\u001b[1;31m---------------------------------------------------------------------------\u001b[0m",
      "\u001b[1;31mTypeError\u001b[0m                                 Traceback (most recent call last)",
      "\u001b[1;32m<ipython-input-5-1366d0bfad19>\u001b[0m in \u001b[0;36m<module>\u001b[1;34m\u001b[0m\n\u001b[0;32m     19\u001b[0m \u001b[0md\u001b[0m \u001b[1;33m=\u001b[0m \u001b[1;33m(\u001b[0m\u001b[0mx4\u001b[0m\u001b[1;33m,\u001b[0m\u001b[0my4\u001b[0m\u001b[1;33m)\u001b[0m\u001b[1;33m\u001b[0m\u001b[1;33m\u001b[0m\u001b[0m\n\u001b[0;32m     20\u001b[0m \u001b[1;33m\u001b[0m\u001b[0m\n\u001b[1;32m---> 21\u001b[1;33m \u001b[0mnp\u001b[0m\u001b[1;33m.\u001b[0m\u001b[0mconcatenate\u001b[0m\u001b[1;33m(\u001b[0m\u001b[0ma\u001b[0m\u001b[1;33m,\u001b[0m\u001b[0mb\u001b[0m\u001b[1;33m)\u001b[0m\u001b[1;33m\u001b[0m\u001b[1;33m\u001b[0m\u001b[0m\n\u001b[0m\u001b[0;32m     22\u001b[0m \u001b[1;33m\u001b[0m\u001b[0m\n\u001b[0;32m     23\u001b[0m \u001b[0mplt\u001b[0m\u001b[1;33m.\u001b[0m\u001b[0mplot\u001b[0m\u001b[1;33m(\u001b[0m\u001b[1;33m)\u001b[0m\u001b[1;33m\u001b[0m\u001b[1;33m\u001b[0m\u001b[0m\n",
      "\u001b[1;32m<__array_function__ internals>\u001b[0m in \u001b[0;36mconcatenate\u001b[1;34m(*args, **kwargs)\u001b[0m\n",
      "\u001b[1;31mTypeError\u001b[0m: 'tuple' object cannot be interpreted as an integer"
     ]
    }
   ],
   "source": [
    "# combine the datasets using concatenate\n",
    "import numpy as np\n",
    "import matplotlib.pyplot as plt\n",
    "\n",
    "x = np.linspace(0.0,10.0, 50)\n",
    "y = 1 * x + 2\n",
    "a = (x,y)\n",
    "\n",
    "x2 = np.linspace(0.0, 10, 50)\n",
    "y2 = 2 * x2 + 3\n",
    "b = (x2,y2)\n",
    "\n",
    "x3 = np.linspace(0.0, 10, 50)\n",
    "y3 = 3 * x3 + 4\n",
    "c = (x3,y3)\n",
    "\n",
    "x4 = np.linspace(0.0, 10, 50)\n",
    "y4 = 4 * x4 + 5\n",
    "d = (x4,y4)\n",
    "\n",
    "np.concatenate(a,b)\n",
    "\n",
    "plt.plot()"
   ]
  },
  {
   "cell_type": "code",
   "execution_count": null,
   "metadata": {},
   "outputs": [],
   "source": []
  }
 ],
 "metadata": {
  "kernelspec": {
   "display_name": "Python 3",
   "language": "python",
   "name": "python3"
  },
  "language_info": {
   "codemirror_mode": {
    "name": "ipython",
    "version": 3
   },
   "file_extension": ".py",
   "mimetype": "text/x-python",
   "name": "python",
   "nbconvert_exporter": "python",
   "pygments_lexer": "ipython3",
   "version": "3.8.3"
  }
 },
 "nbformat": 4,
 "nbformat_minor": 4
}
