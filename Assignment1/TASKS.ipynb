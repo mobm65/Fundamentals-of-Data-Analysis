{
 "cells": [
  {
   "cell_type": "markdown",
   "metadata": {},
   "source": [
    "# # Task 1 - Counts\n",
    "\n",
    "# Write a function which takes a list as input and returns a set of key-value pairs.\n"
   ]
  },
  {
   "cell_type": "markdown",
   "metadata": {},
   "source": [
    " https:// stackoverflow.com/questions/2161752/how-to-count-the-frequency-of-the-elements-in-an-unordered-list\n",
    "     One of the responses to a question suggested building a dictionary using a.count.  Another contributor said\n",
    "     it was 'hugely inefficient' but I decided to try it anyway.\n",
    "     \n",
    " https://www.tutorialspoint.com/python3/python_functions.htm\n",
    "     I found this very helpful to get the notion of a function clear in my mind.\n",
    "     \n",
    " https://www.geeksforgeeks.org/python-return-statement/\n",
    "    I used this to research the purpose of the return statement which is used to\n",
    "    end the function and return the results.\n",
    "    \n",
    " https://www.w3schools.com/python/python_functions.asp\n",
    "    I found this very helpful to get the notion of a function clear in my mind. I\n",
    "    normally consult w3schools early in my research as if I can master the basics\n",
    "    there I find it easier to face the stackoverflow people.\n",
    "    \n",
    " https://www.python.org/dev/peps/pep-0257/\n",
    "    Research the conventions of using docstrings."
   ]
  },
  {
   "cell_type": "code",
   "execution_count": null,
   "metadata": {},
   "outputs": [],
   "source": [
    "# a is list of variables in the form of strings. \n",
    "# taking a step toward finding the function.\n",
    "\n",
    "a = [\"cat\",\"cat\",\"dog\",\"otter\",\"dog\",\"pig\",\"dog\"]\n",
    "\n",
    "# counts is the genesis of a function which takes the list as input\n",
    "# and outputs the variables and the number of times each variable appears.\n",
    "# x represents how many times each animal appears.\n",
    "\n",
    "# Counts takes a list and returns a dictionary\n",
    "\n",
    "counts={x:a.count(x)for x in a}\n",
    "\n",
    "# show the results\n",
    "print(counts)"
   ]
  },
  {
   "cell_type": "code",
   "execution_count": 12,
   "metadata": {},
   "outputs": [
    {
     "name": "stdout",
     "output_type": "stream",
     "text": [
      "{1: 2, 3: 2, 4: 3, 6: 1}\n"
     ]
    }
   ],
   "source": [
    "# a is a list of ints\n",
    "# trying a.count out on integers\n",
    "\n",
    "a = [1,3,4,6,3,1,4,4]\n",
    "\n",
    "# counts is the genesis of a function which takes the list as input and \n",
    "# outputs the variables and the number of times each variable appears.\n",
    "\n",
    "# Counts takes a list and returns a dictionary\n",
    "\n",
    "counts={x:a.count(x)for x in a}\n",
    "\n",
    "# show the results\n",
    "print(counts)"
   ]
  },
  {
   "cell_type": "code",
   "execution_count": 13,
   "metadata": {},
   "outputs": [
    {
     "name": "stdout",
     "output_type": "stream",
     "text": [
      "{1: 2, 3: 2, 4: 3, 6: 1}\n"
     ]
    }
   ],
   "source": [
    "# the final result\n",
    "\n",
    "def counts(b):\n",
    "   \n",
    "    \"\"\"\n",
    "    A function which takes the list as input and outputs the variables and \n",
    "    the number of times each variable appears.\n",
    "    \"\"\" \n",
    "    \n",
    "    return {x:b.count(x) for x in b}\n",
    "\n",
    "# a is a list of ints (x)to be iterated through the function counts. The function \n",
    "# will return a dictionary of key-value pairs. (x,f(x)) where f stands for frequency.\n",
    "\n",
    "a = [1,3,4,6,3,1,4,4]\n",
    "  \n",
    "# show the results\n",
    "print(counts(a))"
   ]
  },
  {
   "cell_type": "markdown",
   "metadata": {},
   "source": [
    "# Dicerolls\n",
    "\n",
    "### Task 2"
   ]
  },
  {
   "cell_type": "markdown",
   "metadata": {},
   "source": [
    "## A Function Dicerolls which calculates the likelihood of facevalues being returned when throwing a number of dice a number of times."
   ]
  },
  {
   "cell_type": "markdown",
   "metadata": {},
   "source": [
    "### Sources\n",
    "\n",
    "https://www.w3schools.com/python/ref_func_zip.asp\n",
    "    Help with zipping the two face values, first two, then second two and so on.\n",
    "\n",
    "https://realpython.com/lessons/randomness-modeling-and-simulation/\n",
    "    Revision of creating random integer lists in Python\n",
    "    \n",
    "https://www.w3schools.com/python/python_while_loops.asp\n",
    "    A useful site to help find what loop I need to create to iterate through the number\n",
    "    of dice (k) by the number of times it/they are thrown(n).\n",
    "\n",
    "https://stackoverflow.com/questions/65071627/python-function-that-simulates-rolling-dice-based-on-input-parameters-1-number\n",
    "    Trying to see how others have dealt with this problem and model some of their ideas.\n",
    "    \n",
    "https://realpython.com/lessons/while-loops-conclusion-lessons-learned/\n",
    "    Revision of while loops.\n",
    "    \n",
    "https://stackoverflow.com/questions/8528178/list-of-zeros-in-python\n",
    "    Helped me find a way to start the loop.  I learned it is a common practice to begin with zero values which allowed\n",
    "    me to create a list of tuples I could iterate over.\n",
    "\n",
    "https://www.w3schools.com/python/python_for_loops.asp\n",
    "    Revision of for loops\n",
    "    "
   ]
  },
  {
   "cell_type": "code",
   "execution_count": null,
   "metadata": {},
   "outputs": [],
   "source": [
    "# k = number of dice\n",
    "# n = number of times dice are thrown\n",
    "# kn = x where x equals face value"
   ]
  },
  {
   "cell_type": "code",
   "execution_count": null,
   "metadata": {},
   "outputs": [],
   "source": [
    "#import libraries.\n",
    "\n",
    "import numpy as np\n",
    "import matplotlib as plt\n",
    "import seaborn as sns\n",
    "import pandas as pd"
   ]
  },
  {
   "cell_type": "code",
   "execution_count": 15,
   "metadata": {},
   "outputs": [
    {
     "name": "stdout",
     "output_type": "stream",
     "text": [
      "[7, 3, 6, 9, 7, 6, 4, 4, 9, 6, 6, 7, 12, 8, 7, 7, 7, 6, 6, 5, 7, 10, 8, 11, 9, 9, 9, 10, 4, 4, 8, 6, 9, 2, 7, 4, 8, 5, 7, 11, 10, 9, 3, 2, 5, 7, 7, 8, 4, 9]\n"
     ]
    }
   ],
   "source": [
    "import numpy as np\n",
    "# In this cell I am trying to generate the data, zip them and print out the results.\n",
    "\n",
    "# the numpy function random.randint will select each possible integer randomly.\n",
    "# it does not include the last number so I called 7 instead of 6.\n",
    "# k = 2 dice\n",
    "# n = 50\n",
    "\n",
    "# a = the first dice rolled randomly 50 times\n",
    "a = np.random.randint(1,7,50)\n",
    "\n",
    "# b = the second dice rolled randomly 50 times.\n",
    "b = np.random.randint(1,7,50)\n",
    "\n",
    "# the zip function iterates through the list and forms tuples\n",
    "x = zip(a,b)\n",
    "\n",
    "dicerolls = [a+b for a, b in x]\n",
    "\n",
    "print(dicerolls)"
   ]
  },
  {
   "cell_type": "code",
   "execution_count": 16,
   "metadata": {},
   "outputs": [
    {
     "name": "stdout",
     "output_type": "stream",
     "text": [
      "{4: 82, 7: 153, 10: 92, 5: 107, 8: 167, 9: 115, 3: 48, 6: 149, 11: 44, 12: 18, 2: 25}\n"
     ]
    }
   ],
   "source": [
    "\n",
    "# In this cell I am starting the function by incorporating the n parameter.\n",
    "\n",
    "# the numpy function random.randint will select each possible integer randomly.\n",
    "# it does not include the last number so I called 7 instead of 6.\n",
    "\n",
    "# The previous function I created will be useful in creating a dictionary of values\n",
    "# with the number of times they appear.\n",
    "\n",
    "def counts(b):\n",
    "   \n",
    "    \"\"\"\n",
    "    A function which takes the list as input and outputs the variables and \n",
    "    the number of times each variable appears.\n",
    "    \"\"\" \n",
    "    \n",
    "    return {x:b.count(x) for x in b}\n",
    "\n",
    "def dicerolls(n):\n",
    "    \n",
    "\n",
    "    # a = the first dice rolled randomly n times\n",
    "    a = np.random.randint(1,7,n)\n",
    "\n",
    "    # b = the second dice rolled randomly n times.\n",
    "    b = np.random.randint(1,7,n)\n",
    "\n",
    "    # the zip function iterates through the list and forms tuples\n",
    "    x = zip(a,b)\n",
    "\n",
    "\n",
    "    summed_rolls = [a+b for a, b in x]\n",
    "    return counts(summed_rolls)\n",
    "\n",
    "\n",
    "print(dicerolls(1000))"
   ]
  },
  {
   "cell_type": "code",
   "execution_count": 17,
   "metadata": {},
   "outputs": [
    {
     "name": "stdout",
     "output_type": "stream",
     "text": [
      "{8: 7, 12: 7, 10: 15, 13: 8, 11: 15, 14: 10, 5: 4, 7: 8, 4: 3, 15: 5, 6: 5, 16: 4, 17: 2, 9: 6, 3: 1}\n"
     ]
    }
   ],
   "source": [
    "import numpy as np\n",
    "import seaborn as sns\n",
    "# In this cell I am trying to create the full function by incorporating the \n",
    "# parameter k, the number of dice.\n",
    "\n",
    "def counts(b):\n",
    "   \n",
    "    \"\"\"\n",
    "    A function which takes the list as input and outputs the variables and \n",
    "    the number of times each variable appears.\n",
    "    \"\"\" \n",
    "    \n",
    "    return {x:b.count(x) for x in b}\n",
    "\n",
    "def dicerolls(k, n):\n",
    "    \n",
    "    \"\"\" A function which takes the number of dice thrown and the number of times\n",
    "    the dice were thrown, adds the facevalues and shows how often each facevalue\n",
    "    appears\"\"\"\n",
    "    \n",
    "    # totals is my list of dice multiplied by n, the number of times dice are thrown.\n",
    "    totals = [0] * n \n",
    "    \n",
    "    # k is the number of dice you are throwing.\n",
    "    for i in range(k):\n",
    "        \n",
    "        # n_dice_rolls is the random selection chosen by the random.randint function.\n",
    "        n_dice_rolls = np.random.randint(1,7,n)\n",
    "        \n",
    "        # zips the totals of dice thrown by number of times AND the random dice rolls.\n",
    "        x = zip(totals, n_dice_rolls)\n",
    "        totals = [a + b for a, b in zip(totals, n_dice_rolls)]\n",
    "        \n",
    "        # passes totals through the function counts.\n",
    "    return counts(totals)\n",
    "    \n",
    "   \n",
    "#Print the function dicerolls while passing in the parameters k and n.\n",
    "print(dicerolls(k=3,n=100))\n",
    "\n",
    "#sns.distplot(return)\n",
    "#sns.show\n",
    "\n",
    "\n"
   ]
  },
  {
   "cell_type": "code",
   "execution_count": 23,
   "metadata": {},
   "outputs": [
    {
     "ename": "ValueError",
     "evalue": "could not convert string to float: 'dicerolls'",
     "output_type": "error",
     "traceback": [
      "\u001b[1;31m---------------------------------------------------------------------------\u001b[0m",
      "\u001b[1;31mValueError\u001b[0m                                Traceback (most recent call last)",
      "\u001b[1;32m<ipython-input-23-0997e8c96d14>\u001b[0m in \u001b[0;36m<module>\u001b[1;34m\u001b[0m\n\u001b[0;32m     10\u001b[0m \u001b[1;32mimport\u001b[0m \u001b[0mseaborn\u001b[0m \u001b[1;32mas\u001b[0m \u001b[0msns\u001b[0m\u001b[1;33m\u001b[0m\u001b[1;33m\u001b[0m\u001b[0m\n\u001b[0;32m     11\u001b[0m \u001b[1;33m\u001b[0m\u001b[0m\n\u001b[1;32m---> 12\u001b[1;33m \u001b[0msns\u001b[0m\u001b[1;33m.\u001b[0m\u001b[0mdistplot\u001b[0m\u001b[1;33m(\u001b[0m\u001b[1;34m\"dicerolls\"\u001b[0m\u001b[1;33m,\u001b[0m\u001b[1;33m(\u001b[0m\u001b[1;36m3\u001b[0m\u001b[1;33m,\u001b[0m \u001b[1;36m100\u001b[0m\u001b[1;33m)\u001b[0m\u001b[1;33m)\u001b[0m\u001b[1;33m\u001b[0m\u001b[1;33m\u001b[0m\u001b[0m\n\u001b[0m\u001b[0;32m     13\u001b[0m \u001b[1;33m\u001b[0m\u001b[0m\n\u001b[0;32m     14\u001b[0m \u001b[0msns\u001b[0m\u001b[1;33m.\u001b[0m\u001b[0mshow\u001b[0m\u001b[1;33m(\u001b[0m\u001b[1;33m)\u001b[0m\u001b[1;33m\u001b[0m\u001b[1;33m\u001b[0m\u001b[0m\n",
      "\u001b[1;32m~\\anaconda3\\lib\\site-packages\\seaborn\\distributions.py\u001b[0m in \u001b[0;36mdistplot\u001b[1;34m(a, bins, hist, kde, rug, fit, hist_kws, kde_kws, rug_kws, fit_kws, color, vertical, norm_hist, axlabel, label, ax)\u001b[0m\n\u001b[0;32m    175\u001b[0m \u001b[1;33m\u001b[0m\u001b[0m\n\u001b[0;32m    176\u001b[0m     \u001b[1;31m# Make a a 1-d float array\u001b[0m\u001b[1;33m\u001b[0m\u001b[1;33m\u001b[0m\u001b[1;33m\u001b[0m\u001b[0m\n\u001b[1;32m--> 177\u001b[1;33m     \u001b[0ma\u001b[0m \u001b[1;33m=\u001b[0m \u001b[0mnp\u001b[0m\u001b[1;33m.\u001b[0m\u001b[0masarray\u001b[0m\u001b[1;33m(\u001b[0m\u001b[0ma\u001b[0m\u001b[1;33m,\u001b[0m \u001b[0mnp\u001b[0m\u001b[1;33m.\u001b[0m\u001b[0mfloat\u001b[0m\u001b[1;33m)\u001b[0m\u001b[1;33m\u001b[0m\u001b[1;33m\u001b[0m\u001b[0m\n\u001b[0m\u001b[0;32m    178\u001b[0m     \u001b[1;32mif\u001b[0m \u001b[0ma\u001b[0m\u001b[1;33m.\u001b[0m\u001b[0mndim\u001b[0m \u001b[1;33m>\u001b[0m \u001b[1;36m1\u001b[0m\u001b[1;33m:\u001b[0m\u001b[1;33m\u001b[0m\u001b[1;33m\u001b[0m\u001b[0m\n\u001b[0;32m    179\u001b[0m         \u001b[0ma\u001b[0m \u001b[1;33m=\u001b[0m \u001b[0ma\u001b[0m\u001b[1;33m.\u001b[0m\u001b[0msqueeze\u001b[0m\u001b[1;33m(\u001b[0m\u001b[1;33m)\u001b[0m\u001b[1;33m\u001b[0m\u001b[1;33m\u001b[0m\u001b[0m\n",
      "\u001b[1;32m~\\anaconda3\\lib\\site-packages\\numpy\\core\\_asarray.py\u001b[0m in \u001b[0;36masarray\u001b[1;34m(a, dtype, order)\u001b[0m\n\u001b[0;32m     83\u001b[0m \u001b[1;33m\u001b[0m\u001b[0m\n\u001b[0;32m     84\u001b[0m     \"\"\"\n\u001b[1;32m---> 85\u001b[1;33m     \u001b[1;32mreturn\u001b[0m \u001b[0marray\u001b[0m\u001b[1;33m(\u001b[0m\u001b[0ma\u001b[0m\u001b[1;33m,\u001b[0m \u001b[0mdtype\u001b[0m\u001b[1;33m,\u001b[0m \u001b[0mcopy\u001b[0m\u001b[1;33m=\u001b[0m\u001b[1;32mFalse\u001b[0m\u001b[1;33m,\u001b[0m \u001b[0morder\u001b[0m\u001b[1;33m=\u001b[0m\u001b[0morder\u001b[0m\u001b[1;33m)\u001b[0m\u001b[1;33m\u001b[0m\u001b[1;33m\u001b[0m\u001b[0m\n\u001b[0m\u001b[0;32m     86\u001b[0m \u001b[1;33m\u001b[0m\u001b[0m\n\u001b[0;32m     87\u001b[0m \u001b[1;33m\u001b[0m\u001b[0m\n",
      "\u001b[1;31mValueError\u001b[0m: could not convert string to float: 'dicerolls'"
     ]
    },
    {
     "data": {
      "image/png": "[encoded data removed]",
      "text/plain": [
       "<Figure size 432x288 with 1 Axes>"
      ]
     },
     "metadata": {
      "needs_background": "light"
     },
     "output_type": "display_data"
    }
   ],
   "source": [
    "# A histogram to illustrate how many times each combination of two dice appears in 50 rolls.\n",
    "# Statistically it is more probable that the numbers with a variety of possible combinations will\n",
    "# occur more frequently.  2 can only be made up of 1+1, 7 can be made up of 1+6, 2+5, and 3+4.\n",
    "\n",
    "# Not working yet\n",
    "\n",
    "\n",
    "from numpy import random\n",
    "import matplotlib.pyplot as plt\n",
    "import seaborn as sns\n",
    "\n",
    "sns.distplot(\"dicerolls\",(3, 100))\n",
    "\n",
    "sns.show() \n",
    "\n"
   ]
  },
  {
   "cell_type": "markdown",
   "metadata": {},
   "source": [
    "\n",
    "\n",
    "# TASK 3    NUMPY.RANDOM.BINOMIAL\n",
    "\n"
   ]
  },
  {
   "cell_type": "markdown",
   "metadata": {},
   "source": [
    "Numpy.random is a PRNG, a pseudo random number generator, and it generates pseudo random arrays.  \n",
    "A binomial function can have only two possible outcomes;\n",
    "yes/no, true/false, heads/tails. It is, therefore, a discrete distribution.\n",
    "The function I am using is numpy.random.binomial which takes three parameters: \n",
    "n = the number of trials, \n",
    "p = the probability of the outcome occuring and \n",
    "size = the shape of the returned array."
   ]
  },
  {
   "cell_type": "code",
   "execution_count": null,
   "metadata": {},
   "outputs": [],
   "source": [
    "#### Sources\n",
    "https://www.journaldev.com/33182/python-add-to-list\n",
    "    How to find a way to add elements unto a list.\n",
    "    \n",
    "https://www.w3schools.com/python/python_while_loops.asp\n",
    "    Keeping correct syntax.\n",
    "    \n",
    "https://numpy.org/doc/stable/reference/random/generated/numpy.random.binomial.html\n",
    "https://www.w3schools.com/python/numpy_random_binomial.asp\n",
    "    Both useful sites to research the function random.binomial and its parameters."
   ]
  },
  {
   "cell_type": "code",
   "execution_count": null,
   "metadata": {},
   "outputs": [],
   "source": [
    "# import library\n",
    "from numpy import random\n",
    "\n",
    "# coinflip is the name of a function which generates 100 pices of \n",
    "# data, performs 100 trials with a probability of .5 of either result.\n",
    "coinflip = random.binomial(n=100, p=.5,size=100)\n",
    "print(coinflip) \n",
    "\n",
    "# returns one humdred answers "
   ]
  },
  {
   "cell_type": "code",
   "execution_count": null,
   "metadata": {},
   "outputs": [],
   "source": [
    "#import libraries.\n",
    "from numpy import random\n",
    "import seaborn as sns\n",
    "import matplotlib.pyplot as plt\n",
    "\n",
    "\"\"\" heads is a function which throws a dice 100 times and records the\n",
    " number of times it faces heads up(1) or tails up (0)\"\"\"\n",
    "\n",
    "def heads():\n",
    "    coinflips = random.binomial(n=1, p=.5, size=100)\n",
    "    return sum(coinflips) \n",
    "\n",
    "# Using a while loop to append instances up to 1000 and sum them.  I start with an empty\n",
    "# list as a base, which I call results.  I start at the element i = 0 and iterate through\n",
    "# all elements up to 1000. I append these results to the return from the function heads.\n",
    "results = []\n",
    "i = 0\n",
    "while i < 1000:\n",
    "    results.append(heads())\n",
    "    i += 1\n",
    "    \n",
    "# Shows the 1000 times 100 throws.\n",
    "print(results)\n",
    "\n",
    "# plots the data as a normal distribution with positive numbers only.\n",
    "sns.distplot(results)\n",
    "\n"
   ]
  },
  {
   "cell_type": "markdown",
   "metadata": {},
   "source": [
    "<br>\n",
    "# Task 4 Simpson's Paradox"
   ]
  },
  {
   "cell_type": "markdown",
   "metadata": {},
   "source": [
    "Simpson's paradox is a trend which is evident in a number of groups but it reverses when the groups are combined.  As Mark Twain said there are \"lies, damned lies and statistics.\"  The impact of all possible variables must be \n",
    "considered before concluding that one variable is linked to another.  Bickel's US Berkley study from 1974 seemed to indicate gender bias in favour of men.  When each department was assessed individually, there was actually a small but statistically relevant bias in favour of women.  Simpson's paradox can arise when there is a confounding variable.  This variable is not taken into account in the causal relationship between two variables, yet it can impact them.  \n",
    "For example it seems that Apple can charge whatever they want and people buy their phones.  This might lead us to believe that high price correlates with high sales.  A confounding variable here might be the social status \n",
    "attached to owning an iphone or customer loyalty to the brand.  "
   ]
  },
  {
   "cell_type": "code",
   "execution_count": null,
   "metadata": {},
   "outputs": [],
   "source": [
    "<br>\n",
    "#### Sources\n",
    "https://www.w3schools.com/python/numpy_creating_arrays.asp\n",
    "https://matplotlib.org/2.1.1/api/_as_gen/matplotlib.pyplot.plot.html\n",
    "    "
   ]
  },
  {
   "cell_type": "code",
   "execution_count": null,
   "metadata": {},
   "outputs": [],
   "source": [
    "import numpy as np\n",
    "# Dataset a \n",
    "x = np.linspace(0.0,10.0, 50)\n",
    "y = 1 * x + 2\n",
    "a = (x,y)\n",
    "print(a)\n",
    "\n",
    "#import seaborn as sns\n",
    "#sns.scatterplot(x, y)\n",
    "\n",
    "import matplotlib.pyplot as plt\n",
    "plt.style.use(\"ggplot\")\n",
    "plt.rcParams[\"figure.figsize\"] = 18,10\n",
    "plt.plot(x,y, \".\",color = \"green\")"
   ]
  },
  {
   "cell_type": "code",
   "execution_count": null,
   "metadata": {},
   "outputs": [],
   "source": [
    "import numpy as np\n",
    "# Dataset b\n",
    "x2 = np.linspace(0.0, 10, 50)\n",
    "y2 = 2 * x2 + 3\n",
    "b = (x2,y2)\n",
    "print(b)\n",
    "\n",
    "#import seaborn as sns\n",
    "#sns.scatterplot(x2,y2)\n",
    "\n",
    "import matplotlib.pyplot as plt\n",
    "plt.style.use(\"ggplot\")\n",
    "plt.rcParams[\"figure.figsize\"] = 18,10\n",
    "plt.plot(x2,y2, \".\",color = \"k\")"
   ]
  },
  {
   "cell_type": "code",
   "execution_count": null,
   "metadata": {},
   "outputs": [],
   "source": [
    "# Dataset c\n",
    "import numpy as np\n",
    "x3 = np.linspace(0.0, 10, 50)\n",
    "y3 = 3 * x3 + 4\n",
    "c = (x3,y3)\n",
    "print(c)\n",
    "\n",
    "#import seaborn as sns\n",
    "#sns.scatterplot(x3,y3)\n",
    "\n",
    "import matplotlib.pyplot as plt\n",
    "plt.style.use(\"ggplot\")\n",
    "plt.rcParams[\"figure.figsize\"] = 18,10\n",
    "plt.plot(x3,y3, \".\",color = \"y\")"
   ]
  },
  {
   "cell_type": "code",
   "execution_count": null,
   "metadata": {},
   "outputs": [],
   "source": [
    "# Dataset d\n",
    "import numpy as np\n",
    "x4 = np.linspace(0.0, 10, 50)\n",
    "y4 = 4 * x4 + 5\n",
    "d = (x4,y4)\n",
    "print(d)\n",
    "\n",
    "#import seaborn as sns\n",
    "#sns.scatterplot (x4,y4)\n",
    "\n",
    "import matplotlib.pyplot as plt\n",
    "plt.style.use(\"ggplot\")\n",
    "plt.rcParams[\"figure.figsize\"] = 18,10\n",
    "plt.plot(x4,y4, \".\",color = \"m\")"
   ]
  },
  {
   "cell_type": "code",
   "execution_count": null,
   "metadata": {},
   "outputs": [],
   "source": [
    "# combine the datasets using concatenate\n",
    "import numpy as np\n",
    "import matplotlib.pyplot as plt\n",
    "\n",
    "x = np.linspace(0.0,10.0, 50)\n",
    "y = 1 * x + 2\n",
    "a = (x,y)\n",
    "\n",
    "x2 = np.linspace(0.0, 10, 50)\n",
    "y2 = 2 * x2 + 3\n",
    "b = (x2,y2)\n",
    "\n",
    "x3 = np.linspace(0.0, 10, 50)\n",
    "y3 = 3 * x3 + 4\n",
    "c = (x3,y3)\n",
    "\n",
    "x4 = np.linspace(0.0, 10, 50)\n",
    "y4 = 4 * x4 + 5\n",
    "d = (x4,y4)\n",
    "\n",
    "np.concatenate(a,b)\n",
    "\n",
    "plt.plot()"
   ]
  },
  {
   "cell_type": "code",
   "execution_count": null,
   "metadata": {},
   "outputs": [],
   "source": []
  }
 ],
 "metadata": {
  "kernelspec": {
   "display_name": "Python 3",
   "language": "python",
   "name": "python3"
  },
  "language_info": {
   "codemirror_mode": {
    "name": "ipython",
    "version": 3
   },
   "file_extension": ".py",
   "mimetype": "text/x-python",
   "name": "python",
   "nbconvert_exporter": "python",
   "pygments_lexer": "ipython3",
   "version": "3.8.3"
  }
 },
 "nbformat": 4,
 "nbformat_minor": 4
}
