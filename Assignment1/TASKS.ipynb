{
 "cells": [
  {
   "cell_type": "markdown",
   "metadata": {},
   "source": [
    "# # Task 1 - Counts\n",
    "\n",
    "# Write a function which takes a list as input and returns a set of key-value pairs.\n"
   ]
  },
  {
   "cell_type": "code",
   "execution_count": null,
   "metadata": {},
   "outputs": [],
   "source": [
    "# https://stackoverflow.com/questions/2161752/how-to-count-the-frequency-of-the-elements-in-an-unordered-list\n",
    "# https://www.tutorialspoint.com/python3/python_functions.htm\n",
    "# https://www.geeksforgeeks.org/python-return-statement/\n",
    "# https://www.w3schools.com/python/python_functions.asp\n",
    "# https://www.python.org/dev/peps/pep-0257/"
   ]
  },
  {
   "cell_type": "code",
   "execution_count": null,
   "metadata": {},
   "outputs": [],
   "source": [
    "# a is list of variables in the form of strings. \n",
    "# taking a step toward finding the function.\n",
    "\n",
    "a = [\"cat\",\"cat\",\"dog\",\"otter\",\"dog\",\"pig\",\"dog\"]\n",
    "\n",
    "# counts is the genesis of a function which takes the list as input\n",
    "# and outputs the variables and the number of times each variable appears.\n",
    "# x represents how many times each animal animal appears.\n",
    "\n",
    "# Counts takes a list and returns a dictionary\n",
    "\n",
    "counts={x:a.count(x)for x in a}\n",
    "\n",
    "# show the results\n",
    "print(counts)"
   ]
  },
  {
   "cell_type": "code",
   "execution_count": null,
   "metadata": {},
   "outputs": [],
   "source": [
    "# a is a list of ints\n",
    "# trying it out on integers\n",
    "\n",
    "a = [1,3,4,6,3,1,4,4]\n",
    "\n",
    "# counts is the genesis of a function which takes the list as input and \n",
    "# outputs the variables and the number of times each variable appears.\n",
    "\n",
    "# Counts takes a list and returns a dictionary\n",
    "\n",
    "counts={x:a.count(x)for x in a}\n",
    "\n",
    "# show the results\n",
    "print(counts)"
   ]
  },
  {
   "cell_type": "code",
   "execution_count": null,
   "metadata": {},
   "outputs": [],
   "source": [
    "# the final result\n",
    "\n",
    "def counts(b):\n",
    "   \n",
    "    \"\"\"\n",
    "    A function which takes the list as input and outputs the variables and \n",
    "    the number of times each variable appears.\n",
    "    \"\"\" \n",
    "    \n",
    "    return {x:b.count(x) for x in b}\n",
    "\n",
    "# a is a list of ints (x)to be iterated through the function counts. The function \n",
    "# will return a dictionary of key-value pairs. (x,f(x)) where f stands for frequency.\n",
    "\n",
    "a = [1,3,4,6,3,1,4,4]\n",
    "  \n",
    "# show the results\n",
    "print(counts(a))"
   ]
  },
  {
   "cell_type": "markdown",
   "metadata": {},
   "source": [
    "# Dicerolls\n",
    "\n",
    "### Task 2"
   ]
  },
  {
   "cell_type": "markdown",
   "metadata": {},
   "source": [
    "## A Function Dicerolls which calculates the likelihood of facevalues being returned when throwing a number of dice a number of times."
   ]
  },
  {
   "cell_type": "markdown",
   "metadata": {},
   "source": [
    "### Sources\n",
    "\n",
    "https://www.w3schools.com/python/ref_func_zip.asp\n",
    "\n",
    "https://realpython.com/lessons/randomness-modeling-and-simulation/\n",
    "\n"
   ]
  },
  {
   "cell_type": "code",
   "execution_count": null,
   "metadata": {},
   "outputs": [],
   "source": [
    "# k = number of dice\n",
    "# n = number of times dice are thrown\n",
    "# kn = x where x equals face value"
   ]
  },
  {
   "cell_type": "code",
   "execution_count": null,
   "metadata": {},
   "outputs": [],
   "source": [
    "import numpy as np\n",
    "import matplotlib as plt\n",
    "import seaborn as sns\n",
    "import pandas as pd"
   ]
  },
  {
   "cell_type": "code",
   "execution_count": null,
   "metadata": {},
   "outputs": [],
   "source": [
    "import numpy as np\n",
    "\n",
    "# the numpy function random.randint will select each possible integer randomly.\n",
    "# it does not include the last number so I called 7 instead of 6.\n",
    "# k = 2 dice\n",
    "# n = 50\n",
    "\n",
    "# a = the first dice rolled randomly 50 times\n",
    "a = np.random.randint(1,7,50)\n",
    "\n",
    "# b = the second dice rolled randomly 50 times.\n",
    "b = np.random.randint(1,7,50)\n",
    "\n",
    "# the zip function iterates through the list and forms tuples\n",
    "x = zip(a,b)\n",
    "\n",
    "\n",
    "dicerolls = [a+b for a, b in x]\n",
    "\n",
    "# this is not a reusable function needs some more work.\n",
    "# for however many dice your function needs to do np.random.randint k times.\n",
    "# k* np.blah \n",
    "\n",
    "print(dicerolls)"
   ]
  },
  {
   "cell_type": "code",
   "execution_count": null,
   "metadata": {},
   "outputs": [],
   "source": [
    "# A histogram to illustrate how many times each combination of two dice appears in 50 rolls.\n",
    "# Statistically it is more probable that the numbers with a variety of possible combinations will\n",
    "# occur more frequently.  2 can only be made up of 1+1, 7 can be made up of 1+6, 2+5, and 3+4.\n",
    "\n",
    "import matplotlib.pyplot as plt\n",
    "plt.hist(dicerolls,50)\n",
    "plt.show()\n",
    "\n"
   ]
  },
  {
   "cell_type": "markdown",
   "metadata": {},
   "source": [
    "\n",
    "\n",
    "# TASK 3    NUMPY.RANDOM.BINOMIAL\n",
    "\n"
   ]
  },
  {
   "cell_type": "markdown",
   "metadata": {},
   "source": [
    "Numpy.random is a PRNG, a pseudo random number generator, and it generates pseudo random arrays.  \n",
    "A binomial function can have only two possible outcomes;\n",
    "yes/no, true/false, heads/tails. It is, therefore, a discrete distribution.\n",
    "The function I am using is numpy.random.binomial which takes three parameters: \n",
    "n = the number of trials, \n",
    "p = the probability of the outcome occuring and \n",
    "size = the shape of the returned array."
   ]
  },
  {
   "cell_type": "code",
   "execution_count": null,
   "metadata": {},
   "outputs": [],
   "source": [
    "from numpy import random\n",
    "coinflip = random.binomial(n=100, p=.5,size=100)\n",
    "print(coinflip)    \n",
    "# returns one humdred answers "
   ]
  },
  {
   "cell_type": "code",
   "execution_count": null,
   "metadata": {},
   "outputs": [],
   "source": [
    "from numpy import random\n",
    "import seaborn as sns\n",
    "heads = random.binomial(n=1, p=.5, size=100)\n",
    "print(heads)\n",
    "sum(heads)\n",
    "#sns.set_style(\"darkgrid\")\n",
    "#sns.distplot(heads)\n",
    "\n"
   ]
  },
  {
   "cell_type": "code",
   "execution_count": null,
   "metadata": {},
   "outputs": [],
   "source": [
    "from numpy import random\n",
    "import seaborn as sns\n",
    "x = random.binomial(n=1000, p=.5, size=1000)\n",
    "#print(x)\n",
    "\n",
    "#import matplotlib.pyplot as plt\n",
    "#plt.hist(x)\n",
    "#plt.show\n",
    "sns.set_style(\"darkgrid\")\n",
    "sns.distplot(x)\n"
   ]
  },
  {
   "cell_type": "markdown",
   "metadata": {},
   "source": [
    "<br>\n",
    "# Task 4 Simpson's Paradox"
   ]
  },
  {
   "cell_type": "markdown",
   "metadata": {},
   "source": [
    "Simpson's paradox is a trend which is evident in a number of groups but it reverses when the groups are combined.  As Mark Twain said there are \"lies, damned lies and statistics.\"  The impact of all possible variables must be \n",
    "considered before concluding that one variable is linked to another.  Bickel's US Berkley study from 1974 seemed to indicate gender bias in favour of men.  When each department was assessed individually, there was actually a small but statistically relevant bias in favour of women.  Simpson's paradox can arise when there is a confounding variable.  This variable is not taken into account in the causal relationship between two variables, yet it can impact them.  \n",
    "For example it seems that Apple can charge whatever they want and people buy their phones.  This might lead us to believe that high price correlates with high sales.  A confounding variable here might be the social status \n",
    "attached to owning an iphone or customer loyalty to the brand.  "
   ]
  },
  {
   "cell_type": "code",
   "execution_count": null,
   "metadata": {},
   "outputs": [],
   "source": [
    "<br>\n",
    "import numpy as np"
   ]
  },
  {
   "cell_type": "code",
   "execution_count": null,
   "metadata": {},
   "outputs": [],
   "source": [
    "import numpy as np\n",
    "# Dataset 1 \n",
    "x = np.linspace(0.0,10.0, 30)\n",
    "y = 1 * x + 2\n",
    "#print(x,y)\n",
    "\n",
    "import seaborn as sns\n",
    "sns.scatterplot(x, y)\n",
    "\n"
   ]
  },
  {
   "cell_type": "code",
   "execution_count": null,
   "metadata": {},
   "outputs": [],
   "source": [
    "import numpy as np\n",
    "# Dataset 2\n",
    "x2 = np.linspace(0.0, 10,30)\n",
    "y2 = 2 * x2 + 3\n",
    "\n",
    "import seaborn as sns\n",
    "sns.scatterplot(x2,y2)"
   ]
  },
  {
   "cell_type": "code",
   "execution_count": null,
   "metadata": {},
   "outputs": [],
   "source": [
    "# Dataset 3\n",
    "import numpy as np\n",
    "x3 = np.linspace(0.0, 10, 30)\n",
    "y3 = 3 * x3 + 4\n",
    "\n",
    "import seaborn as sns\n",
    "sns.scatterplot(x3,y3)"
   ]
  },
  {
   "cell_type": "code",
   "execution_count": null,
   "metadata": {},
   "outputs": [],
   "source": [
    "# Dataset 4\n",
    "import numpy as np\n",
    "x4 = np.linspace(0.0, 10, 30)\n",
    "y4 = 4 * x4 + 5\n",
    "\n",
    "import seaborn as sns\n",
    "sns.scatterplot (x4,y4)"
   ]
  },
  {
   "cell_type": "code",
   "execution_count": null,
   "metadata": {},
   "outputs": [],
   "source": []
  }
 ],
 "metadata": {
  "kernelspec": {
   "display_name": "Python 3",
   "language": "python",
   "name": "python3"
  },
  "language_info": {
   "codemirror_mode": {
    "name": "ipython",
    "version": 3
   },
   "file_extension": ".py",
   "mimetype": "text/x-python",
   "name": "python",
   "nbconvert_exporter": "python",
   "pygments_lexer": "ipython3",
   "version": "3.8.3"
  }
 },
 "nbformat": 4,
 "nbformat_minor": 4
}
