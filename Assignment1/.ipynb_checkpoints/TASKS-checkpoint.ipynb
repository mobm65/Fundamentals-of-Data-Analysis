{
 "cells": [
  {
   "cell_type": "markdown",
   "metadata": {},
   "source": [
    "# # Task 1 - Counts\n",
    "\n",
    "# Write a function which takes a list as input and returns a set of key-value pairs.\n"
   ]
  },
  {
   "cell_type": "code",
   "execution_count": null,
   "metadata": {},
   "outputs": [],
   "source": [
    "# https://stackoverflow.com/questions/2161752/how-to-count-the-frequency-of-the-elements-in-an-unordered-list\n",
    "# https://www.tutorialspoint.com/python3/python_functions.htm\n",
    "# https://www.geeksforgeeks.org/python-return-statement/\n",
    "# https://www.w3schools.com/python/python_functions.asp\n",
    "# https://www.python.org/dev/peps/pep-0257/"
   ]
  },
  {
   "cell_type": "code",
   "execution_count": null,
   "metadata": {},
   "outputs": [],
   "source": [
    "# a is list of variables in the form of strings.\n",
    "\n",
    "a = [\"cat\",\"cat\",\"dog\",\"otter\",\"dog\",\"pig\",\"dog\"]\n",
    "\n",
    "# counts is the genesis of a function which takes the list as input\n",
    "# and outputs the variables and the number of times each variable appears.\n",
    "# x represents how many times each animal animal appears.\n",
    "\n",
    "# Counts takes a list and returns a dictionary\n",
    "\n",
    "counts={x:a.count(x)for x in a}\n",
    "\n",
    "# show the results\n",
    "print(counts)"
   ]
  },
  {
   "cell_type": "code",
   "execution_count": null,
   "metadata": {},
   "outputs": [],
   "source": [
    "# a is a list of ints\n",
    "\n",
    "a = [1,3,4,6,3,1,4,4]\n",
    "\n",
    "# counts is the genesis of a function which takes the list as input and \n",
    "# outputs the variables and the number of times each variable appears.\n",
    "\n",
    "# Counts takes a list and returns a dictionary\n",
    "\n",
    "counts={x:a.count(x)for x in a}\n",
    "\n",
    "# show the results\n",
    "print(counts)"
   ]
  },
  {
   "cell_type": "code",
   "execution_count": null,
   "metadata": {},
   "outputs": [],
   "source": [
    "\n",
    "\n",
    "def counts(b):\n",
    "   \n",
    "    \"\"\"\n",
    "    A function which takes the list as input and outputs the variables and \n",
    "    the number of times each variable appears.\n",
    "    \"\"\" \n",
    "    \n",
    "    return {x:b.count(x) for x in b}\n",
    "\n",
    "# a is a list of ints (x)to be iterated through the function counts. The function \n",
    "# will return a dictionary of key-value pairs. (x,f(x)) where f stands for frequency.\n",
    "\n",
    "a = [1,3,4,6,3,1,4,4]\n",
    "  \n",
    "# show the results\n",
    "print(counts(a))"
   ]
  },
  {
   "cell_type": "markdown",
   "metadata": {},
   "source": [
    "# Dicerolls\n",
    "\n",
    "### Task 2"
   ]
  },
  {
   "cell_type": "code",
   "execution_count": null,
   "metadata": {},
   "outputs": [],
   "source": [
    "# k = number of dice\n",
    "# n = number of times dice are thrown\n",
    "# kn = a where a equals face value"
   ]
  },
  {
   "cell_type": "code",
   "execution_count": null,
   "metadata": {},
   "outputs": [],
   "source": [
    "import numpy as np\n",
    "import matplotlib as plt\n",
    "import seaborn as sns\n",
    "import pandas as pd"
   ]
  },
  {
   "cell_type": "code",
   "execution_count": null,
   "metadata": {},
   "outputs": [],
   "source": [
    "x = np.random.randint(1,7,10)\n",
    "print(x)\n"
   ]
  },
  {
   "cell_type": "code",
   "execution_count": null,
   "metadata": {},
   "outputs": [],
   "source": [
    "y = np.random.randint(1,7,10)\n",
    "print(y)\n"
   ]
  },
  {
   "cell_type": "code",
   "execution_count": null,
   "metadata": {},
   "outputs": [],
   "source": [
    "(print)x+y # doesn't work"
   ]
  },
  {
   "cell_type": "code",
   "execution_count": null,
   "metadata": {},
   "outputs": [],
   "source": []
  }
 ],
 "metadata": {
  "kernelspec": {
   "display_name": "Python 3",
   "language": "python",
   "name": "python3"
  },
  "language_info": {
   "codemirror_mode": {
    "name": "ipython",
    "version": 3
   },
   "file_extension": ".py",
   "mimetype": "text/x-python",
   "name": "python",
   "nbconvert_exporter": "python",
   "pygments_lexer": "ipython3",
   "version": "3.8.3"
  }
 },
 "nbformat": 4,
 "nbformat_minor": 4
}
