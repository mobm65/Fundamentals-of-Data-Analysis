{
 "cells": [
  {
   "cell_type": "markdown",
   "metadata": {},
   "source": [
    "# # Task 1 - Counts\n",
    "\n",
    "# Write a function which takes a list as input and returns a set of key-value pairs.\n"
   ]
  },
  {
   "cell_type": "code",
   "execution_count": null,
   "metadata": {},
   "outputs": [],
   "source": [
    "# https:// stackoverflow.com/questions/2161752/how-to-count-the-frequency-of-the-elements-in-an-unordered-list\n",
    "    # One of the responses to a question suggested building a dictionary using a.count.  Another contributor said\n",
    "    # it was 'hugely inefficient' but I decided to try it anyway.\n",
    "# https://www.tutorialspoint.com/python3/python_functions.htm\n",
    "    # I found this very helpful to get the notion of a function clear in my mind.\n",
    "# https://www.geeksforgeeks.org/python-return-statement/\n",
    "    # I used this to research the purpose of the return statement which is used to\n",
    "    # end the function and return the results.\n",
    "# https://www.w3schools.com/python/python_functions.asp\n",
    "     # I found this very helpful to get the notion of a function clear in my mind. I\n",
    "    # normally consult w3schools early in my research as if I can master the basics\n",
    "    # there I find it easier to face the stackoverflow people.\n",
    "# https://www.python.org/dev/peps/pep-0257/\n",
    "    # Research the conventions of using docstrings."
   ]
  },
  {
   "cell_type": "code",
   "execution_count": null,
   "metadata": {},
   "outputs": [],
   "source": [
    "# a is list of variables in the form of strings. \n",
    "# taking a step toward finding the function.\n",
    "\n",
    "a = [\"cat\",\"cat\",\"dog\",\"otter\",\"dog\",\"pig\",\"dog\"]\n",
    "\n",
    "# counts is the genesis of a function which takes the list as input\n",
    "# and outputs the variables and the number of times each variable appears.\n",
    "# x represents how many times each animal appears.\n",
    "\n",
    "# Counts takes a list and returns a dictionary\n",
    "\n",
    "counts={x:a.count(x)for x in a}\n",
    "\n",
    "# show the results\n",
    "print(counts)"
   ]
  },
  {
   "cell_type": "code",
   "execution_count": null,
   "metadata": {},
   "outputs": [],
   "source": [
    "# a is a list of ints\n",
    "# trying a.count out on integers\n",
    "\n",
    "a = [1,3,4,6,3,1,4,4]\n",
    "\n",
    "# counts is the genesis of a function which takes the list as input and \n",
    "# outputs the variables and the number of times each variable appears.\n",
    "\n",
    "# Counts takes a list and returns a dictionary\n",
    "\n",
    "counts={x:a.count(x)for x in a}\n",
    "\n",
    "# show the results\n",
    "print(counts)"
   ]
  },
  {
   "cell_type": "code",
   "execution_count": null,
   "metadata": {},
   "outputs": [],
   "source": [
    "# the final result\n",
    "\n",
    "def counts(b):\n",
    "   \n",
    "    \"\"\"\n",
    "    A function which takes the list as input and outputs the variables and \n",
    "    the number of times each variable appears.\n",
    "    \"\"\" \n",
    "    \n",
    "    return {x:b.count(x) for x in b}\n",
    "\n",
    "# a is a list of ints (x)to be iterated through the function counts. The function \n",
    "# will return a dictionary of key-value pairs. (x,f(x)) where f stands for frequency.\n",
    "\n",
    "a = [1,3,4,6,3,1,4,4]\n",
    "  \n",
    "# show the results\n",
    "print(counts(a))"
   ]
  },
  {
   "cell_type": "markdown",
   "metadata": {},
   "source": [
    "# Dicerolls\n",
    "\n",
    "### Task 2"
   ]
  },
  {
   "cell_type": "markdown",
   "metadata": {},
   "source": [
    "## A Function Dicerolls which calculates the likelihood of facevalues being returned when throwing a number of dice a number of times."
   ]
  },
  {
   "cell_type": "code",
   "execution_count": null,
   "metadata": {},
   "outputs": [],
   "source": [
    "### Sources\n",
    "\n",
    "https://www.w3schools.com/python/ref_func_zip.asp\n",
    "    Help with zipping the two face values, first two, then second two and so on.\n",
    "\n",
    "https://realpython.com/lessons/randomness-modeling-and-simulation/\n",
    "    Revision of creating random integer lists in Python\n",
    "    \n",
    "https://www.w3schools.com/python/python_while_loops.asp\n",
    "    A useful site to help find what loop I need to create to iterate through the number\n",
    "    of dice (k) by the number of times it/they are thrown(n).\n",
    "\n",
    "https://stackoverflow.com/questions/65071627/python-function-that-simulates-rolling-dice-based-on-input-parameters-1-number\n",
    "    Trying to see how others have dealt with this problem and model some of their ideas.\n",
    "    \n",
    "https://realpython.com/lessons/while-loops-conclusion-lessons-learned/\n",
    "    Revision of while loops.\n",
    "    \n",
    "#https://stackoverflow.com/questions/8528178/list-of-zeros-in-python\n",
    "    Helped me find a way to start the loop.  I learned it is a common practice to begin with zero values which allowed\n",
    "    me to create a list of tuples I could iterate over.\n",
    "\n",
    "https://www.w3schools.com/python/python_for_loops.asp\n",
    "    Revision of for loops\n",
    "    "
   ]
  },
  {
   "cell_type": "code",
   "execution_count": 35,
   "metadata": {},
   "outputs": [],
   "source": [
    "# k = number of dice\n",
    "# n = number of times dice are thrown\n",
    "# kn = x where x equals face value"
   ]
  },
  {
   "cell_type": "code",
   "execution_count": 36,
   "metadata": {},
   "outputs": [],
   "source": [
    "import numpy as np\n",
    "import matplotlib as plt\n",
    "import seaborn as sns\n",
    "import pandas as pd"
   ]
  },
  {
   "cell_type": "code",
   "execution_count": 37,
   "metadata": {},
   "outputs": [
    {
     "name": "stdout",
     "output_type": "stream",
     "text": [
      "[12, 6, 7, 8, 9, 10, 9, 8, 9, 10, 3, 8, 4, 10, 4, 9, 5, 9, 10, 11, 9, 3, 11, 3, 10, 8, 7, 7, 9, 9, 9, 6, 7, 9, 8, 5, 7, 5, 7, 6, 3, 3, 12, 7, 6, 9, 12, 4, 11, 3]\n"
     ]
    }
   ],
   "source": [
    "\n",
    "\n",
    "# In this cell I am trying to generate the data, zip them and print out the results.\n",
    "\n",
    "# the numpy function random.randint will select each possible integer randomly.\n",
    "# it does not include the last number so I called 7 instead of 6.\n",
    "# k = 2 dice\n",
    "# n = 50\n",
    "\n",
    "# a = the first dice rolled randomly 50 times\n",
    "a = np.random.randint(1,7,50)\n",
    "\n",
    "# b = the second dice rolled randomly 50 times.\n",
    "b = np.random.randint(1,7,50)\n",
    "\n",
    "# the zip function iterates through the list and forms tuples\n",
    "x = zip(a,b)\n",
    "\n",
    "\n",
    "dicerolls = [a+b for a, b in x]\n",
    "\n",
    "\n",
    "print(dicerolls)"
   ]
  },
  {
   "cell_type": "code",
   "execution_count": 38,
   "metadata": {},
   "outputs": [
    {
     "name": "stdout",
     "output_type": "stream",
     "text": [
      "{9: 110, 7: 178, 6: 136, 8: 139, 2: 31, 3: 68, 10: 79, 5: 98, 11: 47, 12: 30, 4: 84}\n"
     ]
    }
   ],
   "source": [
    "import numpy as np\n",
    "\n",
    "# In this cell I am starting the function by incorporating the n parameter.\n",
    "\n",
    "# the numpy function random.randint will select each possible integer randomly.\n",
    "# it does not include the last number so I called 7 instead of 6.\n",
    "\n",
    "# The previous function I created will be useful in creating a dictionary of values\n",
    "# with the number of times they appear.\n",
    "\n",
    "def counts(b):\n",
    "   \n",
    "    \"\"\"\n",
    "    A function which takes the list as input and outputs the variables and \n",
    "    the number of times each variable appears.\n",
    "    \"\"\" \n",
    "    \n",
    "    return {x:b.count(x) for x in b}\n",
    "\n",
    "def dicerolls(n):\n",
    "    \n",
    "\n",
    "    # a = the first dice rolled randomly n times\n",
    "    a = np.random.randint(1,7,n)\n",
    "\n",
    "    # b = the second dice rolled randomly n times.\n",
    "    b = np.random.randint(1,7,n)\n",
    "\n",
    "    # the zip function iterates through the list and forms tuples\n",
    "    x = zip(a,b)\n",
    "\n",
    "\n",
    "    summed_rolls = [a+b for a, b in x]\n",
    "    return counts(summed_rolls)\n",
    "\n",
    "\n",
    "print(dicerolls(1000))"
   ]
  },
  {
   "cell_type": "code",
   "execution_count": 28,
   "metadata": {},
   "outputs": [
    {
     "name": "stdout",
     "output_type": "stream",
     "text": [
      "{10: 7, 8: 19, 14: 3, 12: 11, 15: 8, 13: 5, 11: 15, 5: 2, 7: 12, 9: 7, 18: 1, 17: 1, 3: 1, 6: 5, 16: 2, 4: 1}\n"
     ]
    }
   ],
   "source": [
    "import numpy as np\n",
    "\n",
    "# In this cell I am trying to create the full function by incorporating the \n",
    "# parameter k, the number of dice.\n",
    "\n",
    "# the numpy function random.randint will select each possible integer randomly.\n",
    "# it does not include the last number so I called 7 instead of 6.\n",
    "\n",
    "# In maths terms I am trying to do n(ka) where a is one dice face, k is the number of dice,\n",
    "# n is the number of throws.\n",
    "\n",
    "def counts(b):\n",
    "   \n",
    "    \"\"\"\n",
    "    A function which takes the list as input and outputs the variables and \n",
    "    the number of times each variable appears.\n",
    "    \"\"\" \n",
    "    \n",
    "    return {x:b.count(x) for x in b}\n",
    "\n",
    "def dicerolls(k, n):\n",
    "    \n",
    "    \"\"\" A function which takes the number of dice thrown and the number of times\n",
    "    the dice were thrown, adds the facevalues and shows how often each facevalue\n",
    "    appears\"\"\"\n",
    "    \n",
    "    # totals is my list of dice multiplied by n, the number of times dice are thrown.\n",
    "    totals = [0] * n \n",
    "    \n",
    "    # k is the number of dice you are throwing.\n",
    "    for i in range(k):\n",
    "        \n",
    "        # n_dice_rolls is the random selection chosen by the random.randint function.\n",
    "        n_dice_rolls = np.random.randint(1,7,n)\n",
    "        \n",
    "        # zips the totals of dice thrown by number of times AND the random dice rolls.\n",
    "        x = zip(totals, n_dice_rolls)\n",
    "        totals = [a + b for a, b in zip(totals, n_dice_rolls)]\n",
    "        \n",
    "        # We now call on the function to return the previous function counts passing through\n",
    "        # the totals.\n",
    "    return counts(totals)\n",
    "    \n",
    "    \n",
    "# Print the function dicerolls while passing in the parameters k and n.\n",
    "print(dicerolls(k=3,n=100))"
   ]
  },
  {
   "cell_type": "code",
   "execution_count": 34,
   "metadata": {},
   "outputs": [
    {
     "ename": "TypeError",
     "evalue": "'<' not supported between instances of 'dict' and 'float'",
     "output_type": "error",
     "traceback": [
      "\u001b[1;31m---------------------------------------------------------------------------\u001b[0m",
      "\u001b[1;31mTypeError\u001b[0m                                 Traceback (most recent call last)",
      "\u001b[1;32m<ipython-input-34-cb2ddb018ec2>\u001b[0m in \u001b[0;36m<module>\u001b[1;34m\u001b[0m\n\u001b[0;32m     10\u001b[0m \u001b[0mplt\u001b[0m\u001b[1;33m.\u001b[0m\u001b[0mylabel\u001b[0m\u001b[1;33m(\u001b[0m\u001b[1;34m'Frequency'\u001b[0m\u001b[1;33m)\u001b[0m\u001b[1;33m\u001b[0m\u001b[1;33m\u001b[0m\u001b[0m\n\u001b[0;32m     11\u001b[0m \u001b[0mplt\u001b[0m\u001b[1;33m.\u001b[0m\u001b[0mtitle\u001b[0m\u001b[1;33m(\u001b[0m\u001b[1;34m'Diceroll Data'\u001b[0m\u001b[1;33m)\u001b[0m\u001b[1;33m\u001b[0m\u001b[1;33m\u001b[0m\u001b[0m\n\u001b[1;32m---> 12\u001b[1;33m \u001b[0mplt\u001b[0m\u001b[1;33m.\u001b[0m\u001b[0mhist\u001b[0m\u001b[1;33m(\u001b[0m\u001b[0mdicerolls\u001b[0m\u001b[1;33m(\u001b[0m\u001b[1;36m2\u001b[0m\u001b[1;33m,\u001b[0m\u001b[1;36m50\u001b[0m\u001b[1;33m)\u001b[0m\u001b[1;33m)\u001b[0m\u001b[1;33m\u001b[0m\u001b[1;33m\u001b[0m\u001b[0m\n\u001b[0m\u001b[0;32m     13\u001b[0m \u001b[0mplt\u001b[0m\u001b[1;33m.\u001b[0m\u001b[0mshow\u001b[0m\u001b[1;33m(\u001b[0m\u001b[1;33m)\u001b[0m\u001b[1;33m\u001b[0m\u001b[1;33m\u001b[0m\u001b[0m\n\u001b[0;32m     14\u001b[0m \u001b[1;33m\u001b[0m\u001b[0m\n",
      "\u001b[1;32m~\\anaconda3\\lib\\site-packages\\matplotlib\\pyplot.py\u001b[0m in \u001b[0;36mhist\u001b[1;34m(x, bins, range, density, weights, cumulative, bottom, histtype, align, orientation, rwidth, log, color, label, stacked, data, **kwargs)\u001b[0m\n\u001b[0;32m   2603\u001b[0m         \u001b[0morientation\u001b[0m\u001b[1;33m=\u001b[0m\u001b[1;34m'vertical'\u001b[0m\u001b[1;33m,\u001b[0m \u001b[0mrwidth\u001b[0m\u001b[1;33m=\u001b[0m\u001b[1;32mNone\u001b[0m\u001b[1;33m,\u001b[0m \u001b[0mlog\u001b[0m\u001b[1;33m=\u001b[0m\u001b[1;32mFalse\u001b[0m\u001b[1;33m,\u001b[0m \u001b[0mcolor\u001b[0m\u001b[1;33m=\u001b[0m\u001b[1;32mNone\u001b[0m\u001b[1;33m,\u001b[0m\u001b[1;33m\u001b[0m\u001b[1;33m\u001b[0m\u001b[0m\n\u001b[0;32m   2604\u001b[0m         label=None, stacked=False, *, data=None, **kwargs):\n\u001b[1;32m-> 2605\u001b[1;33m     return gca().hist(\n\u001b[0m\u001b[0;32m   2606\u001b[0m         \u001b[0mx\u001b[0m\u001b[1;33m,\u001b[0m \u001b[0mbins\u001b[0m\u001b[1;33m=\u001b[0m\u001b[0mbins\u001b[0m\u001b[1;33m,\u001b[0m \u001b[0mrange\u001b[0m\u001b[1;33m=\u001b[0m\u001b[0mrange\u001b[0m\u001b[1;33m,\u001b[0m \u001b[0mdensity\u001b[0m\u001b[1;33m=\u001b[0m\u001b[0mdensity\u001b[0m\u001b[1;33m,\u001b[0m \u001b[0mweights\u001b[0m\u001b[1;33m=\u001b[0m\u001b[0mweights\u001b[0m\u001b[1;33m,\u001b[0m\u001b[1;33m\u001b[0m\u001b[1;33m\u001b[0m\u001b[0m\n\u001b[0;32m   2607\u001b[0m         \u001b[0mcumulative\u001b[0m\u001b[1;33m=\u001b[0m\u001b[0mcumulative\u001b[0m\u001b[1;33m,\u001b[0m \u001b[0mbottom\u001b[0m\u001b[1;33m=\u001b[0m\u001b[0mbottom\u001b[0m\u001b[1;33m,\u001b[0m \u001b[0mhisttype\u001b[0m\u001b[1;33m=\u001b[0m\u001b[0mhisttype\u001b[0m\u001b[1;33m,\u001b[0m\u001b[1;33m\u001b[0m\u001b[1;33m\u001b[0m\u001b[0m\n",
      "\u001b[1;32m~\\anaconda3\\lib\\site-packages\\matplotlib\\__init__.py\u001b[0m in \u001b[0;36minner\u001b[1;34m(ax, data, *args, **kwargs)\u001b[0m\n\u001b[0;32m   1563\u001b[0m     \u001b[1;32mdef\u001b[0m \u001b[0minner\u001b[0m\u001b[1;33m(\u001b[0m\u001b[0max\u001b[0m\u001b[1;33m,\u001b[0m \u001b[1;33m*\u001b[0m\u001b[0margs\u001b[0m\u001b[1;33m,\u001b[0m \u001b[0mdata\u001b[0m\u001b[1;33m=\u001b[0m\u001b[1;32mNone\u001b[0m\u001b[1;33m,\u001b[0m \u001b[1;33m**\u001b[0m\u001b[0mkwargs\u001b[0m\u001b[1;33m)\u001b[0m\u001b[1;33m:\u001b[0m\u001b[1;33m\u001b[0m\u001b[1;33m\u001b[0m\u001b[0m\n\u001b[0;32m   1564\u001b[0m         \u001b[1;32mif\u001b[0m \u001b[0mdata\u001b[0m \u001b[1;32mis\u001b[0m \u001b[1;32mNone\u001b[0m\u001b[1;33m:\u001b[0m\u001b[1;33m\u001b[0m\u001b[1;33m\u001b[0m\u001b[0m\n\u001b[1;32m-> 1565\u001b[1;33m             \u001b[1;32mreturn\u001b[0m \u001b[0mfunc\u001b[0m\u001b[1;33m(\u001b[0m\u001b[0max\u001b[0m\u001b[1;33m,\u001b[0m \u001b[1;33m*\u001b[0m\u001b[0mmap\u001b[0m\u001b[1;33m(\u001b[0m\u001b[0msanitize_sequence\u001b[0m\u001b[1;33m,\u001b[0m \u001b[0margs\u001b[0m\u001b[1;33m)\u001b[0m\u001b[1;33m,\u001b[0m \u001b[1;33m**\u001b[0m\u001b[0mkwargs\u001b[0m\u001b[1;33m)\u001b[0m\u001b[1;33m\u001b[0m\u001b[1;33m\u001b[0m\u001b[0m\n\u001b[0m\u001b[0;32m   1566\u001b[0m \u001b[1;33m\u001b[0m\u001b[0m\n\u001b[0;32m   1567\u001b[0m         \u001b[0mbound\u001b[0m \u001b[1;33m=\u001b[0m \u001b[0mnew_sig\u001b[0m\u001b[1;33m.\u001b[0m\u001b[0mbind\u001b[0m\u001b[1;33m(\u001b[0m\u001b[0max\u001b[0m\u001b[1;33m,\u001b[0m \u001b[1;33m*\u001b[0m\u001b[0margs\u001b[0m\u001b[1;33m,\u001b[0m \u001b[1;33m**\u001b[0m\u001b[0mkwargs\u001b[0m\u001b[1;33m)\u001b[0m\u001b[1;33m\u001b[0m\u001b[1;33m\u001b[0m\u001b[0m\n",
      "\u001b[1;32m~\\anaconda3\\lib\\site-packages\\matplotlib\\axes\\_axes.py\u001b[0m in \u001b[0;36mhist\u001b[1;34m(self, x, bins, range, density, weights, cumulative, bottom, histtype, align, orientation, rwidth, log, color, label, stacked, **kwargs)\u001b[0m\n\u001b[0;32m   6628\u001b[0m                     \u001b[1;31m# python's min/max ignore nan,\u001b[0m\u001b[1;33m\u001b[0m\u001b[1;33m\u001b[0m\u001b[1;33m\u001b[0m\u001b[0m\n\u001b[0;32m   6629\u001b[0m                     \u001b[1;31m# np.minnan returns nan for all nan input\u001b[0m\u001b[1;33m\u001b[0m\u001b[1;33m\u001b[0m\u001b[1;33m\u001b[0m\u001b[0m\n\u001b[1;32m-> 6630\u001b[1;33m                     \u001b[0mxmin\u001b[0m \u001b[1;33m=\u001b[0m \u001b[0mmin\u001b[0m\u001b[1;33m(\u001b[0m\u001b[0mxmin\u001b[0m\u001b[1;33m,\u001b[0m \u001b[0mnp\u001b[0m\u001b[1;33m.\u001b[0m\u001b[0mnanmin\u001b[0m\u001b[1;33m(\u001b[0m\u001b[0mxi\u001b[0m\u001b[1;33m)\u001b[0m\u001b[1;33m)\u001b[0m\u001b[1;33m\u001b[0m\u001b[1;33m\u001b[0m\u001b[0m\n\u001b[0m\u001b[0;32m   6631\u001b[0m                     \u001b[0mxmax\u001b[0m \u001b[1;33m=\u001b[0m \u001b[0mmax\u001b[0m\u001b[1;33m(\u001b[0m\u001b[0mxmax\u001b[0m\u001b[1;33m,\u001b[0m \u001b[0mnp\u001b[0m\u001b[1;33m.\u001b[0m\u001b[0mnanmax\u001b[0m\u001b[1;33m(\u001b[0m\u001b[0mxi\u001b[0m\u001b[1;33m)\u001b[0m\u001b[1;33m)\u001b[0m\u001b[1;33m\u001b[0m\u001b[1;33m\u001b[0m\u001b[0m\n\u001b[0;32m   6632\u001b[0m             \u001b[1;31m# make sure we have seen at least one non-nan and finite\u001b[0m\u001b[1;33m\u001b[0m\u001b[1;33m\u001b[0m\u001b[1;33m\u001b[0m\u001b[0m\n",
      "\u001b[1;31mTypeError\u001b[0m: '<' not supported between instances of 'dict' and 'float'"
     ]
    },
    {
     "data": {
      "image/png": "[encoded data removed]",
      "text/plain": [
       "<Figure size 432x288 with 1 Axes>"
      ]
     },
     "metadata": {
      "needs_background": "light"
     },
     "output_type": "display_data"
    }
   ],
   "source": [
    "# A histogram to illustrate how many times each combination of two dice appears in 50 rolls.\n",
    "# Statistically it is more probable that the numbers with a variety of possible combinations will\n",
    "# occur more frequently.  2 can only be made up of 1+1, 7 can be made up of 1+6, 2+5, and 3+4.\n",
    "\n",
    "import matplotlib.pyplot as plt\n",
    "\n",
    "x = dicerolls\n",
    "plt.grid(axis='y', alpha=0.75)\n",
    "plt.xlabel('Number of Dice')\n",
    "plt.ylabel('Frequency')\n",
    "plt.title('Diceroll Data')\n",
    "plt.hist(dicerolls(2,50))\n",
    "plt.show()\n",
    "\n"
   ]
  },
  {
   "cell_type": "markdown",
   "metadata": {},
   "source": [
    "\n",
    "\n",
    "# TASK 3    NUMPY.RANDOM.BINOMIAL\n",
    "\n"
   ]
  },
  {
   "cell_type": "markdown",
   "metadata": {},
   "source": [
    "Numpy.random is a PRNG, a pseudo random number generator, and it generates pseudo random arrays.  \n",
    "A binomial function can have only two possible outcomes;\n",
    "yes/no, true/false, heads/tails. It is, therefore, a discrete distribution.\n",
    "The function I am using is numpy.random.binomial which takes three parameters: \n",
    "n = the number of trials, \n",
    "p = the probability of the outcome occuring and \n",
    "size = the shape of the returned array."
   ]
  },
  {
   "cell_type": "code",
   "execution_count": null,
   "metadata": {},
   "outputs": [],
   "source": [
    "from numpy import random\n",
    "coinflip = random.binomial(n=100, p=.5,size=100)\n",
    "print(coinflip)    \n",
    "# returns one humdred answers "
   ]
  },
  {
   "cell_type": "code",
   "execution_count": null,
   "metadata": {},
   "outputs": [],
   "source": [
    "from numpy import random\n",
    "import seaborn as sns\n",
    "heads = random.binomial(n=1, p=.5, size=100)\n",
    "print(heads)\n",
    "sum(heads)\n",
    "#sns.set_style(\"darkgrid\")\n",
    "#sns.distplot(heads)\n",
    "\n"
   ]
  },
  {
   "cell_type": "code",
   "execution_count": null,
   "metadata": {},
   "outputs": [],
   "source": [
    "from numpy import random\n",
    "import seaborn as sns\n",
    "x = random.binomial(n=1000, p=.5, size=1000)\n",
    "#print(x)\n",
    "\n",
    "#import matplotlib.pyplot as plt\n",
    "#plt.hist(x)\n",
    "#plt.show\n",
    "sns.set_style(\"darkgrid\")\n",
    "sns.distplot(x)\n"
   ]
  },
  {
   "cell_type": "markdown",
   "metadata": {},
   "source": [
    "<br>\n",
    "# Task 4 Simpson's Paradox"
   ]
  },
  {
   "cell_type": "markdown",
   "metadata": {},
   "source": [
    "Simpson's paradox is a trend which is evident in a number of groups but it reverses when the groups are combined.  As Mark Twain said there are \"lies, damned lies and statistics.\"  The impact of all possible variables must be \n",
    "considered before concluding that one variable is linked to another.  Bickel's US Berkley study from 1974 seemed to indicate gender bias in favour of men.  When each department was assessed individually, there was actually a small but statistically relevant bias in favour of women.  Simpson's paradox can arise when there is a confounding variable.  This variable is not taken into account in the causal relationship between two variables, yet it can impact them.  \n",
    "For example it seems that Apple can charge whatever they want and people buy their phones.  This might lead us to believe that high price correlates with high sales.  A confounding variable here might be the social status \n",
    "attached to owning an iphone or customer loyalty to the brand.  "
   ]
  },
  {
   "cell_type": "code",
   "execution_count": null,
   "metadata": {},
   "outputs": [],
   "source": [
    "<br>\n",
    "#### Sources\n",
    "https://www.w3schools.com/python/numpy_creating_arrays.asp\n",
    "https://matplotlib.org/2.1.1/api/_as_gen/matplotlib.pyplot.plot.html\n",
    "    "
   ]
  },
  {
   "cell_type": "code",
   "execution_count": null,
   "metadata": {},
   "outputs": [],
   "source": [
    "import numpy as np\n",
    "# Dataset a \n",
    "x = np.linspace(0.0,10.0, 50)\n",
    "y = 1 * x + 2\n",
    "a = (x,y)\n",
    "print(a)\n",
    "\n",
    "#import seaborn as sns\n",
    "#sns.scatterplot(x, y)\n",
    "\n",
    "import matplotlib.pyplot as plt\n",
    "plt.style.use(\"ggplot\")\n",
    "plt.rcParams[\"figure.figsize\"] = 18,10\n",
    "plt.plot(x,y, \".\",color = \"green\")"
   ]
  },
  {
   "cell_type": "code",
   "execution_count": null,
   "metadata": {},
   "outputs": [],
   "source": [
    "import numpy as np\n",
    "# Dataset b\n",
    "x2 = np.linspace(0.0, 10, 50)\n",
    "y2 = 2 * x2 + 3\n",
    "b = (x2,y2)\n",
    "print(b)\n",
    "\n",
    "#import seaborn as sns\n",
    "#sns.scatterplot(x2,y2)\n",
    "\n",
    "import matplotlib.pyplot as plt\n",
    "plt.style.use(\"ggplot\")\n",
    "plt.rcParams[\"figure.figsize\"] = 18,10\n",
    "plt.plot(x2,y2, \".\",color = \"k\")"
   ]
  },
  {
   "cell_type": "code",
   "execution_count": null,
   "metadata": {},
   "outputs": [],
   "source": [
    "# Dataset c\n",
    "import numpy as np\n",
    "x3 = np.linspace(0.0, 10, 50)\n",
    "y3 = 3 * x3 + 4\n",
    "c = (x3,y3)\n",
    "print(c)\n",
    "\n",
    "#import seaborn as sns\n",
    "#sns.scatterplot(x3,y3)\n",
    "\n",
    "import matplotlib.pyplot as plt\n",
    "plt.style.use(\"ggplot\")\n",
    "plt.rcParams[\"figure.figsize\"] = 18,10\n",
    "plt.plot(x3,y3, \".\",color = \"y\")"
   ]
  },
  {
   "cell_type": "code",
   "execution_count": null,
   "metadata": {},
   "outputs": [],
   "source": [
    "# Dataset d\n",
    "import numpy as np\n",
    "x4 = np.linspace(0.0, 10, 50)\n",
    "y4 = 4 * x4 + 5\n",
    "d = (x4,y4)\n",
    "print(d)\n",
    "\n",
    "#import seaborn as sns\n",
    "#sns.scatterplot (x4,y4)\n",
    "\n",
    "import matplotlib.pyplot as plt\n",
    "plt.style.use(\"ggplot\")\n",
    "plt.rcParams[\"figure.figsize\"] = 18,10\n",
    "plt.plot(x4,y4, \".\",color = \"m\")"
   ]
  },
  {
   "cell_type": "code",
   "execution_count": null,
   "metadata": {},
   "outputs": [],
   "source": [
    "# combine the datasets using concatenate\n",
    "import numpy as np\n",
    "import matplotlib.pyplot as plt\n",
    "\n",
    "x = np.linspace(0.0,10.0, 50)\n",
    "y = 1 * x + 2\n",
    "a = (x,y)\n",
    "\n",
    "x2 = np.linspace(0.0, 10, 50)\n",
    "y2 = 2 * x2 + 3\n",
    "b = (x2,y2)\n",
    "\n",
    "x3 = np.linspace(0.0, 10, 50)\n",
    "y3 = 3 * x3 + 4\n",
    "c = (x3,y3)\n",
    "\n",
    "x4 = np.linspace(0.0, 10, 50)\n",
    "y4 = 4 * x4 + 5\n",
    "d = (x4,y4)\n",
    "\n",
    "np.concatenate(a,b)\n",
    "\n",
    "plt.plot()"
   ]
  },
  {
   "cell_type": "code",
   "execution_count": null,
   "metadata": {},
   "outputs": [],
   "source": []
  }
 ],
 "metadata": {
  "kernelspec": {
   "display_name": "Python 3",
   "language": "python",
   "name": "python3"
  },
  "language_info": {
   "codemirror_mode": {
    "name": "ipython",
    "version": 3
   },
   "file_extension": ".py",
   "mimetype": "text/x-python",
   "name": "python",
   "nbconvert_exporter": "python",
   "pygments_lexer": "ipython3",
   "version": "3.8.3"
  }
 },
 "nbformat": 4,
 "nbformat_minor": 4
}
